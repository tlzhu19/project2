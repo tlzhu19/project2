{
 "cells": [
  {
   "cell_type": "markdown",
   "metadata": {},
   "source": [
    "# 67364 Final Project: Predicting Crime in US Cities\n",
    "Tiffany Zhu and Justin Chan"
   ]
  },
  {
   "cell_type": "markdown",
   "metadata": {},
   "source": [
    "## 1. Initial Question\n",
    "\n",
    "We are interested in seeing if we can predict crime rates of cities in the US. We want to know what factors contribute to the crime rate, for example household income and demographic information."
   ]
  },
  {
   "cell_type": "markdown",
   "metadata": {},
   "source": [
    "## 2. The Data Set\n",
    "\n",
    "Our data set can be found on the UCI Machine Learning Repository (http://archive.ics.uci.edu/ml/datasets/Communities+and+Crime+Unnormalize). The data contains information from 2215 different cities in the US. Each city has 147 attributes population demographics, income information, housing information and police information such as crime rates and the demographics of the police force. The demographic, income and housing information was from the 1990 Census and police information was taken from a 1995 Law Enforcement Survey. Additionally, as we will see below, several of the attributes contain NAs for most cities, so we have to initally remove several attributes."
   ]
  },
  {
   "cell_type": "markdown",
   "metadata": {},
   "source": [
    "Below, we grab the data set and don't include the features that contain NAs in most of the instances (cities)."
   ]
  },
  {
   "cell_type": "code",
   "execution_count": 1,
   "metadata": {
    "collapsed": false
   },
   "outputs": [],
   "source": [
    "import matplotlib.pyplot as plt\n",
    "from pprint import pprint as pp\n",
    "import numpy as np\n",
    "import pandas as pd\n",
    "\n",
    "feature_matrix = []\n",
    "target_vector1 = []\n",
    "target_vector2 = []\n",
    "varToNumNA = dict()\n",
    "\n",
    "for line in open('CommViolPredUnnormalizedData.txt', 'r'):\n",
    "    features_orig = line.strip().split(',')\n",
    "    for i in range(len(features_orig)):\n",
    "        if features_orig[i] == '?':\n",
    "            try:\n",
    "                varToNumNA[i] += 1\n",
    "            except:\n",
    "                varToNumNA[i] = 1\n",
    "    \n",
    "    target1 = features_orig[-2] # ViolentCrimesPerPop\n",
    "    target2 = features_orig[-1] # nonViolPerPop\n",
    "    #features = [ f for f in features[3:-2]] # don't include town and state name\n",
    "    features = [ f for f in features_orig[4:103] ] #don't include 103\n",
    "    features += [f for f in features_orig[120:123]] #don't include 103-119, or 123\n",
    "    features += [features_orig[127]] \n",
    "    features += [f for f in features_orig[129:131]]\n",
    "    features += [f for f in features_orig[133:143]]\n",
    "    feature_matrix.append(features)\n",
    "    target_vector1.append(target1)\n",
    "    target_vector2.append(target2)\n",
    "  "
   ]
  },
  {
   "cell_type": "markdown",
   "metadata": {},
   "source": [
    "The function statistical_measures below is taken from class. We will use this later to exam our results."
   ]
  },
  {
   "cell_type": "code",
   "execution_count": 2,
   "metadata": {
    "collapsed": true
   },
   "outputs": [],
   "source": [
    "from sklearn.metrics import *\n",
    "import numpy as np\n",
    "\n",
    "# http://stackoverflow.com/questions/31324218/scikit-learn-how-to-obtain-true-positive-true-negative-false-positive-and-fal\n",
    "def statistical_measures(confusion_matrix):\n",
    "    FP = confusion_matrix.sum(axis=0) - np.diag(confusion_matrix)  \n",
    "    FN = confusion_matrix.sum(axis=1) - np.diag(confusion_matrix)\n",
    "    TP = np.diag(confusion_matrix)\n",
    "    TN = confusion_matrix.sum() - (FP + FN + TP)\n",
    "\n",
    "    # Sensitivity, hit rate, recall, or true positive rate\n",
    "    TPR = TP/(TP+FN)\n",
    "    # Specificity or true negative rate\n",
    "    TNR = TN/(TN+FP) \n",
    "    # Precision or positive predictive value\n",
    "    PPV = TP/(TP+FP)\n",
    "    # Negative predictive value\n",
    "    NPV = TN/(TN+FN)\n",
    "    # Fall out or false positive rate\n",
    "    FPR = FP/(FP+TN)\n",
    "    # False negative rate\n",
    "    FNR = FN/(TP+FN)\n",
    "    # False discovery rate\n",
    "    FDR = FP/(TP+FP)\n",
    "\n",
    "    # Overall accuracy\n",
    "    ACC = (TP+TN)/(TP+FP+FN+TN)\n",
    "    return {'TPR':TPR, 'TNR':TNR, 'PPV':PPV, 'NPV':NPV, 'FPR':FPR, 'FNR':FNR, 'FDR':FDR, 'ACC':ACC}"
   ]
  },
  {
   "cell_type": "markdown",
   "metadata": {},
   "source": [
    "Below we see all of the variables that contained NAs. So we get a sense that there are several variables that we can initially remove so that when we actually go to fit a model, we won't have to remove rows from the data (due to NAs)."
   ]
  },
  {
   "cell_type": "code",
   "execution_count": 3,
   "metadata": {
    "collapsed": false
   },
   "outputs": [
    {
     "data": {
      "text/plain": [
       "{2: 1221,\n",
       " 3: 1224,\n",
       " 30: 1,\n",
       " 103: 1872,\n",
       " 104: 1872,\n",
       " 105: 1872,\n",
       " 106: 1872,\n",
       " 107: 1872,\n",
       " 108: 1872,\n",
       " 109: 1872,\n",
       " 110: 1872,\n",
       " 111: 1872,\n",
       " 112: 1872,\n",
       " 113: 1872,\n",
       " 114: 1872,\n",
       " 115: 1872,\n",
       " 116: 1872,\n",
       " 117: 1872,\n",
       " 118: 1872,\n",
       " 119: 1872,\n",
       " 123: 1872,\n",
       " 124: 1872,\n",
       " 125: 1872,\n",
       " 126: 1872,\n",
       " 128: 1872,\n",
       " 131: 208,\n",
       " 132: 208,\n",
       " 133: 1,\n",
       " 134: 1,\n",
       " 135: 13,\n",
       " 136: 13,\n",
       " 137: 3,\n",
       " 138: 3,\n",
       " 139: 3,\n",
       " 140: 3,\n",
       " 141: 3,\n",
       " 142: 3,\n",
       " 143: 91,\n",
       " 144: 91,\n",
       " 145: 221,\n",
       " 146: 97}"
      ]
     },
     "execution_count": 3,
     "metadata": {},
     "output_type": "execute_result"
    }
   ],
   "source": [
    "# don't use the variables that have a lot of '?'s in th data\n",
    "varToNumNA # {var : numNA}, var is the index of the variable, numNA is the nubmer of ?s"
   ]
  },
  {
   "cell_type": "code",
   "execution_count": 4,
   "metadata": {
    "collapsed": false
   },
   "outputs": [
    {
     "data": {
      "text/plain": [
       "115"
      ]
     },
     "execution_count": 4,
     "metadata": {},
     "output_type": "execute_result"
    }
   ],
   "source": [
    "len(features)"
   ]
  },
  {
   "cell_type": "code",
   "execution_count": 5,
   "metadata": {
    "collapsed": false
   },
   "outputs": [
    {
     "data": {
      "text/plain": [
       "False"
      ]
     },
     "execution_count": 5,
     "metadata": {},
     "output_type": "execute_result"
    }
   ],
   "source": [
    "feature_matrix[1]\n",
    "'?' in feature_matrix[1]"
   ]
  },
  {
   "cell_type": "markdown",
   "metadata": {},
   "source": [
    "Before we can fit a model to our data set, we must remove the NAs ('?' in the data set) in order to use functions in SKlearn."
   ]
  },
  {
   "cell_type": "code",
   "execution_count": 6,
   "metadata": {
    "collapsed": false
   },
   "outputs": [],
   "source": [
    "feature_matrix_clean = []\n",
    "target_vector1_clean = []\n",
    "target_vector2_clean = []\n",
    "for i in range(len(feature_matrix)):\n",
    "    if ('?' not in feature_matrix[i] and '?' not in target_vector1[i] and '?' not in target_vector2[i]):\n",
    "        feature_matrix_clean.append([float(x) for x in feature_matrix[i]])\n",
    "        target_vector1_clean.append(float(target_vector1[i]))\n",
    "        target_vector2_clean.append(float(target_vector2[i]))"
   ]
  },
  {
   "cell_type": "code",
   "execution_count": 7,
   "metadata": {
    "collapsed": false
   },
   "outputs": [
    {
     "data": {
      "text/plain": [
       "(2215, 1901)"
      ]
     },
     "execution_count": 7,
     "metadata": {},
     "output_type": "execute_result"
    }
   ],
   "source": [
    "len(feature_matrix), len(feature_matrix_clean) # get rid of some data ~300"
   ]
  },
  {
   "cell_type": "markdown",
   "metadata": {},
   "source": [
    "From Wikipedia, we find the the average crime rate in the US is 636.6. 636.6 is total number of violent crimes per 100K people. So we set a variable for this. Our goal is to predict if a city has a crime rate higher than the national average. We will create a binary variable (our target variable that we want to predict) that will be 1 if the crime rate is above average and 0 otherwise."
   ]
  },
  {
   "cell_type": "code",
   "execution_count": 8,
   "metadata": {
    "collapsed": true
   },
   "outputs": [],
   "source": [
    "AVG_CRIME = 636.6"
   ]
  },
  {
   "cell_type": "code",
   "execution_count": 9,
   "metadata": {
    "collapsed": false
   },
   "outputs": [
    {
     "name": "stdout",
     "output_type": "stream",
     "text": [
      "[[  1.00000000e+00   1.19800000e+04   3.10000000e+00 ...,   1.13208000e+03\n",
      "    1.60000000e+01   1.31260000e+02]\n",
      " [  1.00000000e+00   2.31230000e+04   2.82000000e+00 ...,   1.59878000e+03\n",
      "    2.60000000e+01   1.10550000e+02]\n",
      " [  1.00000000e+00   2.93440000e+04   2.43000000e+00 ...,   4.97219000e+03\n",
      "    1.36000000e+02   3.76300000e+02]\n",
      " ..., \n",
      " [  1.00000000e+01   3.28240000e+04   2.46000000e+00 ...,   2.43597000e+03\n",
      "    1.79000000e+02   4.87190000e+02]\n",
      " [  1.00000000e+01   1.35470000e+04   2.89000000e+00 ...,   3.72290000e+03\n",
      "    1.30000000e+01   1.02100000e+02]\n",
      " [  1.00000000e+01   2.88980000e+04   2.61000000e+00 ...,   4.81920000e+03\n",
      "    4.05000000e+02   1.33867000e+03]]\n",
      "[0 0 0 ..., 0 1 1]\n"
     ]
    }
   ],
   "source": [
    "data = np.array( feature_matrix_clean )\n",
    "target1 = np.array( [ (1 if (x > AVG_CRIME) else 0) for x in target_vector1_clean] )\n",
    "target2 = np.array( [ (1 if (x > AVG_CRIME) else 0) for x in target_vector2_clean] )\n",
    "\n",
    "print(data)\n",
    "print(target1)"
   ]
  },
  {
   "cell_type": "markdown",
   "metadata": {},
   "source": [
    "## 3 Model Fitting"
   ]
  },
  {
   "cell_type": "markdown",
   "metadata": {},
   "source": [
    "### 3.1 Naive Bayes\n",
    "\n",
    "We first try fitting a Naive Bayes model using sklearn.naive_bayes. We get an accuracy or 0.867, or an error rate of 0.133, which seems quite good. We also note that our base rate is around 0.31 (if we guessed 0 for every city, we would get 31% wrong). So already, 0.133 compared to 0.31 seems quite good. We also look at the confusion matrix further down. We want the false poitive and false negative rates to be low and the precision, true positive and true negative rates to be high. This seems like the case in our confusion matrix. But the false negative rate seems a bit high (i.e. the true positive rate seems a bit low). So, the times we predicted that the city does not have above average crime rates but they actually do, is a bit high. This may be concerning because if we told a family who was looking for a nice area that Camden, NJ has below average crime rate, but actually it has above average, this would be a problem. This family would unknownly think Camden is an OK place to be, in terms of crime rates. Thus we will explore other models."
   ]
  },
  {
   "cell_type": "code",
   "execution_count": 10,
   "metadata": {
    "collapsed": false
   },
   "outputs": [
    {
     "data": {
      "text/plain": [
       "0.31351920042083115"
      ]
     },
     "execution_count": 10,
     "metadata": {},
     "output_type": "execute_result"
    }
   ],
   "source": [
    "base_rate = sum(target1) / len(target1)\n",
    "base_rate"
   ]
  },
  {
   "cell_type": "code",
   "execution_count": 11,
   "metadata": {
    "collapsed": false
   },
   "outputs": [
    {
     "data": {
      "text/plain": [
       "GaussianNB(priors=None)"
      ]
     },
     "execution_count": 11,
     "metadata": {},
     "output_type": "execute_result"
    }
   ],
   "source": [
    "# We will use a variation of NB \n",
    "from sklearn.naive_bayes import GaussianNB\n",
    "\n",
    "# fit a Naive Bayes model to the data\n",
    "model = GaussianNB()\n",
    "X_train, y_train1 = data, target1 \n",
    "model.fit(X_train, y_train1)"
   ]
  },
  {
   "cell_type": "code",
   "execution_count": 12,
   "metadata": {
    "collapsed": false
   },
   "outputs": [],
   "source": [
    "y_predicted = model.predict(X_train) \n",
    "y_expected = y_train1"
   ]
  },
  {
   "cell_type": "code",
   "execution_count": 13,
   "metadata": {
    "collapsed": false
   },
   "outputs": [
    {
     "name": "stdout",
     "output_type": "stream",
     "text": [
      "0.867964229353\n",
      "\n",
      "             precision    recall  f1-score   support\n",
      "\n",
      "          0       0.86      0.97      0.91      1305\n",
      "          1       0.90      0.65      0.76       596\n",
      "\n",
      "avg / total       0.87      0.87      0.86      1901\n",
      "\n",
      "[[1263   42]\n",
      " [ 209  387]]\n",
      "\n"
     ]
    }
   ],
   "source": [
    "# Import  metrics\n",
    "from sklearn import metrics\n",
    "\n",
    "# summarize the fit of the model\n",
    "\n",
    "print(metrics.accuracy_score(y_expected, y_predicted))\n",
    "print()\n",
    "print(metrics.classification_report(y_expected, y_predicted))\n",
    "print(metrics.confusion_matrix(y_expected, y_predicted))\n",
    "print()"
   ]
  },
  {
   "cell_type": "code",
   "execution_count": 15,
   "metadata": {
    "collapsed": false
   },
   "outputs": [
    {
     "name": "stderr",
     "output_type": "stream",
     "text": [
      "/Users/tiffanyzhu/miniconda3/lib/python3.5/site-packages/sklearn/cross_validation.py:44: DeprecationWarning: This module was deprecated in version 0.18 in favor of the model_selection module into which all the refactored classes and functions are moved. Also note that the interface of the new CV iterators are different from that of this module. This module will be removed in 0.20.\n",
      "  \"This module will be removed in 0.20.\", DeprecationWarning)\n"
     ]
    },
    {
     "data": {
      "text/plain": [
       "{'ACC': array([ 0.864808,  0.864808]),\n",
       " 'FDR': array([ 0.14109589,  0.11564626]),\n",
       " 'FNR': array([ 0.03908046,  0.34563758]),\n",
       " 'FPR': array([ 0.34563758,  0.03908046]),\n",
       " 'NPV': array([ 0.88435374,  0.85890411]),\n",
       " 'PPV': array([ 0.85890411,  0.88435374]),\n",
       " 'TNR': array([ 0.65436242,  0.96091954]),\n",
       " 'TPR': array([ 0.96091954,  0.65436242])}"
      ]
     },
     "execution_count": 15,
     "metadata": {},
     "output_type": "execute_result"
    }
   ],
   "source": [
    "from sklearn import cross_validation\n",
    "predict0 = cross_validation.cross_val_predict(GaussianNB(), X_train, y_train1, cv=10)\n",
    "cm0 = confusion_matrix(y_expected, predict0)\n",
    "statistical_measures(cm0)"
   ]
  },
  {
   "cell_type": "code",
   "execution_count": 16,
   "metadata": {
    "collapsed": true
   },
   "outputs": [],
   "source": [
    "def readFile(filename, mode=\"rt\"):\n",
    "    # rt stands for \"read text\"\n",
    "    fin = contents = None\n",
    "    try:\n",
    "        fin = open(filename, mode)\n",
    "        contents = fin.read()\n",
    "    finally:\n",
    "        if (fin != None): fin.close()\n",
    "    return contents\n",
    "\n",
    "#def indexToName(i):\n",
    "#    contents = readFile('varNames.txt')\n",
    "#    contents_list = contents.split('\\n')\n",
    "#    contents_list = [ (s.split())[1][:-1] for s in contents_list ]\n",
    "#    return contents_list[i]\n",
    "\n",
    "# get all of the variable names\n",
    "contents = readFile('varNames.txt')\n",
    "contents_list = contents.split('\\n')\n",
    "contents_list = [ (s.split())[1][:-1] for s in contents_list ]\n",
    "#contents_list.index('population')"
   ]
  },
  {
   "cell_type": "markdown",
   "metadata": {},
   "source": [
    "Before we look at another model, we want to just quickly visualize which variables are the ones we removed."
   ]
  },
  {
   "cell_type": "code",
   "execution_count": 17,
   "metadata": {
    "collapsed": false
   },
   "outputs": [
    {
     "data": {
      "text/plain": [
       "[(2, 1221, 'countyCode'),\n",
       " (3, 1224, 'communityCode'),\n",
       " (30, 1, 'OtherPerCap'),\n",
       " (103, 1872, 'LemasSwornFT'),\n",
       " (104, 1872, 'LemasSwFTPerPop'),\n",
       " (105, 1872, 'LemasSwFTFieldOps'),\n",
       " (106, 1872, 'LemasSwFTFieldPerPop'),\n",
       " (107, 1872, 'LemasTotalReq'),\n",
       " (108, 1872, 'LemasTotReqPerPop'),\n",
       " (109, 1872, 'PolicReqPerOffic'),\n",
       " (110, 1872, 'PolicPerPop'),\n",
       " (111, 1872, 'RacialMatchCommPol'),\n",
       " (112, 1872, 'PctPolicWhite'),\n",
       " (113, 1872, 'PctPolicBlack'),\n",
       " (114, 1872, 'PctPolicHisp'),\n",
       " (115, 1872, 'PctPolicAsian'),\n",
       " (116, 1872, 'PctPolicMinor'),\n",
       " (117, 1872, 'OfficAssgnDrugUnits'),\n",
       " (118, 1872, 'NumKindsDrugsSeiz'),\n",
       " (119, 1872, 'PolicAveOTWorked'),\n",
       " (123, 1872, 'PolicCars'),\n",
       " (124, 1872, 'PolicOperBudg'),\n",
       " (125, 1872, 'LemasPctPolicOnPatr'),\n",
       " (126, 1872, 'LemasGangUnitDeploy'),\n",
       " (128, 1872, 'PolicBudgPerPop'),\n",
       " (131, 208, 'rapes'),\n",
       " (132, 208, 'rapesPerPop'),\n",
       " (133, 1, 'robberies'),\n",
       " (134, 1, 'robbbPerPop'),\n",
       " (135, 13, 'assaults'),\n",
       " (136, 13, 'assaultPerPop'),\n",
       " (137, 3, 'burglaries'),\n",
       " (138, 3, 'burglPerPop'),\n",
       " (139, 3, 'larcenies'),\n",
       " (140, 3, 'larcPerPop'),\n",
       " (141, 3, 'autoTheft'),\n",
       " (142, 3, 'autoTheftPerPop'),\n",
       " (143, 91, 'arsons'),\n",
       " (144, 91, 'arsonsPerPop'),\n",
       " (145, 221, 'ViolentCrimesPerPop'),\n",
       " (146, 97, 'nonViolPerPop')]"
      ]
     },
     "execution_count": 17,
     "metadata": {},
     "output_type": "execute_result"
    }
   ],
   "source": [
    "varNames = []\n",
    "for i in varToNumNA:\n",
    "    varNames += [(i, varToNumNA[i], contents_list[i])]\n",
    "sorted(varNames) # variables that we didn't use: (index, # of times used, var name)"
   ]
  },
  {
   "cell_type": "markdown",
   "metadata": {},
   "source": [
    "### 3.2 Logistic Regression (L1 and L2 penalty)\n",
    "\n",
    "We next try logistic regression using L1 and L2 penalty. We also will use cross-validated results (using 10 folds) because this will give us more accurate results and we can see how well we are doing. We do very similar to what we did in section 3.1. After fitting a logistic regression model, we get the predictions and find the confusion matrix. Comparing the model using L1 penalty with the model using L2 penalty, we actually get quite similar results. However, comparing logistic regression with Naive Bayes, logistic seems to be better. Looking at the cross-validated results, our error rate for logistic with L1 penalty is about 0.025, with L2 penaltiy it is about 0.022. This is better than Naive Bayes (0.133) and definitely greatly better than the base rate (0.31). The false negative rate is also a lot lower, 0.047 and 0.037 (L1 and L2) compared to 0.345. So using logistic regression seems like a better model, however we will explore another model, random forest."
   ]
  },
  {
   "cell_type": "code",
   "execution_count": 18,
   "metadata": {
    "collapsed": false
   },
   "outputs": [
    {
     "data": {
      "text/plain": [
       "LogisticRegression(C=100000.0, class_weight=None, dual=False,\n",
       "          fit_intercept=True, intercept_scaling=1, max_iter=100,\n",
       "          multi_class='ovr', n_jobs=1, penalty='l1', random_state=None,\n",
       "          solver='liblinear', tol=0.0001, verbose=0, warm_start=False)"
      ]
     },
     "execution_count": 18,
     "metadata": {},
     "output_type": "execute_result"
    }
   ],
   "source": [
    "from sklearn import linear_model, datasets\n",
    "# use logistic reg and L1 penalty \n",
    "logreg = linear_model.LogisticRegression(C=1e5, penalty='l1',)\n",
    "X = feature_matrix_clean\n",
    "y = [ (1 if (x > AVG_CRIME) else 0) for x in target_vector1_clean]\n",
    "logreg.fit(X, y)"
   ]
  },
  {
   "cell_type": "code",
   "execution_count": 19,
   "metadata": {
    "collapsed": false
   },
   "outputs": [
    {
     "name": "stdout",
     "output_type": "stream",
     "text": [
      "0.993687532877\n",
      "\n",
      "             precision    recall  f1-score   support\n",
      "\n",
      "          0       0.99      1.00      1.00      1305\n",
      "          1       1.00      0.98      0.99       596\n",
      "\n",
      "avg / total       0.99      0.99      0.99      1901\n",
      "\n",
      "[[1303    2]\n",
      " [  10  586]]\n",
      "\n"
     ]
    }
   ],
   "source": [
    "y_predicted_log = logreg.predict(X)\n",
    "y_expected = y_train1\n",
    "print(metrics.accuracy_score(y_expected, y_predicted_log))\n",
    "print()\n",
    "print(metrics.classification_report(y_expected, y_predicted_log))\n",
    "print(metrics.confusion_matrix(y_expected, y_predicted_log))\n",
    "print()"
   ]
  },
  {
   "cell_type": "code",
   "execution_count": 20,
   "metadata": {
    "collapsed": false
   },
   "outputs": [
    {
     "name": "stdout",
     "output_type": "stream",
     "text": [
      "0.97475013151\n",
      "             precision    recall  f1-score   support\n",
      "\n",
      "          0       0.98      0.98      0.98      1305\n",
      "          1       0.97      0.95      0.96       596\n",
      "\n",
      "avg / total       0.97      0.97      0.97      1901\n",
      "\n"
     ]
    }
   ],
   "source": [
    "# logistic regression w/ L1 penalty and CV\n",
    "predicted = cross_validation.cross_val_predict(linear_model.LogisticRegression(penalty='l1'), X, y, cv=10)\n",
    "print(metrics.accuracy_score(y, predicted))\n",
    "print(metrics.classification_report(y, predicted))"
   ]
  },
  {
   "cell_type": "code",
   "execution_count": 21,
   "metadata": {
    "collapsed": false
   },
   "outputs": [
    {
     "data": {
      "text/plain": [
       "{'ACC': array([ 0.97475013,  0.97475013]),\n",
       " 'FDR': array([ 0.02132521,  0.03401361]),\n",
       " 'FNR': array([ 0.01532567,  0.04697987]),\n",
       " 'FPR': array([ 0.04697987,  0.01532567]),\n",
       " 'NPV': array([ 0.96598639,  0.97867479]),\n",
       " 'PPV': array([ 0.97867479,  0.96598639]),\n",
       " 'TNR': array([ 0.95302013,  0.98467433]),\n",
       " 'TPR': array([ 0.98467433,  0.95302013])}"
      ]
     },
     "execution_count": 21,
     "metadata": {},
     "output_type": "execute_result"
    }
   ],
   "source": [
    "# l1 log reg, CV\n",
    "cm2 = confusion_matrix(y, predicted)\n",
    "statistical_measures(cm2)"
   ]
  },
  {
   "cell_type": "code",
   "execution_count": 22,
   "metadata": {
    "collapsed": false
   },
   "outputs": [
    {
     "name": "stdout",
     "output_type": "stream",
     "text": [
      "0.990005260389\n",
      "\n",
      "             precision    recall  f1-score   support\n",
      "\n",
      "          0       0.99      1.00      0.99      1305\n",
      "          1       0.99      0.98      0.98       596\n",
      "\n",
      "avg / total       0.99      0.99      0.99      1901\n",
      "\n",
      "[[1299    6]\n",
      " [  13  583]]\n",
      "\n"
     ]
    }
   ],
   "source": [
    "# use logistic reg and L2 penalty \n",
    "logreg2 = linear_model.LogisticRegression(C=1e5, penalty='l2',)\n",
    "logreg2.fit(X, y)\n",
    "\n",
    "y_predicted_log2 = logreg2.predict(X)\n",
    "print(metrics.accuracy_score(y_expected, y_predicted_log2))\n",
    "print()\n",
    "print(metrics.classification_report(y_expected, y_predicted_log2))\n",
    "print(metrics.confusion_matrix(y_expected, y_predicted_log2))\n",
    "print()"
   ]
  },
  {
   "cell_type": "code",
   "execution_count": 23,
   "metadata": {
    "collapsed": false
   },
   "outputs": [
    {
     "name": "stdout",
     "output_type": "stream",
     "text": [
      "0.978432403998\n",
      "             precision    recall  f1-score   support\n",
      "\n",
      "          0       0.98      0.99      0.98      1305\n",
      "          1       0.97      0.96      0.97       596\n",
      "\n",
      "avg / total       0.98      0.98      0.98      1901\n",
      "\n"
     ]
    }
   ],
   "source": [
    "predicted2 = cross_validation.cross_val_predict(linear_model.LogisticRegression(penalty='l2'), X, y, cv=10)\n",
    "print(metrics.accuracy_score(y, predicted2))\n",
    "print(metrics.classification_report(y, predicted2))"
   ]
  },
  {
   "cell_type": "code",
   "execution_count": 24,
   "metadata": {
    "collapsed": false
   },
   "outputs": [
    {
     "data": {
      "text/plain": [
       "{'ACC': array([ 0.9784324,  0.9784324]),\n",
       " 'FDR': array([ 0.01681957,  0.03204047]),\n",
       " 'FNR': array([ 0.01455939,  0.03691275]),\n",
       " 'FPR': array([ 0.03691275,  0.01455939]),\n",
       " 'NPV': array([ 0.96795953,  0.98318043]),\n",
       " 'PPV': array([ 0.98318043,  0.96795953]),\n",
       " 'TNR': array([ 0.96308725,  0.98544061]),\n",
       " 'TPR': array([ 0.98544061,  0.96308725])}"
      ]
     },
     "execution_count": 24,
     "metadata": {},
     "output_type": "execute_result"
    }
   ],
   "source": [
    "# l2 log reg, CV\n",
    "cm3 = confusion_matrix(y, predicted2)\n",
    "statistical_measures(cm3)"
   ]
  },
  {
   "cell_type": "markdown",
   "metadata": {},
   "source": [
    "### 3.3 Random Forest\n",
    "Below, we try a random forest. We fit the model using cross-validation and again find the confusion matrix. Using a random forest, we actually get worse results compared to Naive Bayes and logistic regression. Our error rate is around 0.16 (comapred to 0.14 for Naive Bayes and around 0.03 for logistic regression), but it is still better than the base rate, 0.31. Similar to when we used Naive Bayes, the false negative rate is quite high but actually not as high as Naive Bayes (0.297 vs 0.345). This again would be a problem because of what we said in section 3.1. It could be a big problem to falsely say that a city has low crime rate when in fact it actually has high crime rates."
   ]
  },
  {
   "cell_type": "code",
   "execution_count": 25,
   "metadata": {
    "collapsed": false
   },
   "outputs": [
    {
     "data": {
      "text/html": [
       "<div>\n",
       "<table border=\"1\" class=\"dataframe\">\n",
       "  <thead>\n",
       "    <tr style=\"text-align: right;\">\n",
       "      <th></th>\n",
       "      <th>0</th>\n",
       "      <th>1</th>\n",
       "      <th>2</th>\n",
       "      <th>3</th>\n",
       "      <th>4</th>\n",
       "      <th>5</th>\n",
       "      <th>6</th>\n",
       "      <th>7</th>\n",
       "      <th>8</th>\n",
       "      <th>9</th>\n",
       "      <th>...</th>\n",
       "      <th>137</th>\n",
       "      <th>138</th>\n",
       "      <th>139</th>\n",
       "      <th>140</th>\n",
       "      <th>141</th>\n",
       "      <th>142</th>\n",
       "      <th>143</th>\n",
       "      <th>144</th>\n",
       "      <th>145</th>\n",
       "      <th>146</th>\n",
       "    </tr>\n",
       "  </thead>\n",
       "  <tbody>\n",
       "    <tr>\n",
       "      <th>0</th>\n",
       "      <td>BerkeleyHeightstownship</td>\n",
       "      <td>NJ</td>\n",
       "      <td>39</td>\n",
       "      <td>5320</td>\n",
       "      <td>1</td>\n",
       "      <td>11980</td>\n",
       "      <td>3.10</td>\n",
       "      <td>1.37</td>\n",
       "      <td>91.78</td>\n",
       "      <td>6.50</td>\n",
       "      <td>...</td>\n",
       "      <td>14</td>\n",
       "      <td>114.85</td>\n",
       "      <td>138</td>\n",
       "      <td>1132.08</td>\n",
       "      <td>16</td>\n",
       "      <td>131.26</td>\n",
       "      <td>2</td>\n",
       "      <td>16.41</td>\n",
       "      <td>41.02</td>\n",
       "      <td>1394.59</td>\n",
       "    </tr>\n",
       "    <tr>\n",
       "      <th>1</th>\n",
       "      <td>Marpletownship</td>\n",
       "      <td>PA</td>\n",
       "      <td>45</td>\n",
       "      <td>47616</td>\n",
       "      <td>1</td>\n",
       "      <td>23123</td>\n",
       "      <td>2.82</td>\n",
       "      <td>0.80</td>\n",
       "      <td>95.57</td>\n",
       "      <td>3.44</td>\n",
       "      <td>...</td>\n",
       "      <td>57</td>\n",
       "      <td>242.37</td>\n",
       "      <td>376</td>\n",
       "      <td>1598.78</td>\n",
       "      <td>26</td>\n",
       "      <td>110.55</td>\n",
       "      <td>1</td>\n",
       "      <td>4.25</td>\n",
       "      <td>127.56</td>\n",
       "      <td>1955.95</td>\n",
       "    </tr>\n",
       "    <tr>\n",
       "      <th>2</th>\n",
       "      <td>Tigardcity</td>\n",
       "      <td>OR</td>\n",
       "      <td>?</td>\n",
       "      <td>?</td>\n",
       "      <td>1</td>\n",
       "      <td>29344</td>\n",
       "      <td>2.43</td>\n",
       "      <td>0.74</td>\n",
       "      <td>94.33</td>\n",
       "      <td>3.43</td>\n",
       "      <td>...</td>\n",
       "      <td>274</td>\n",
       "      <td>758.14</td>\n",
       "      <td>1797</td>\n",
       "      <td>4972.19</td>\n",
       "      <td>136</td>\n",
       "      <td>376.3</td>\n",
       "      <td>22</td>\n",
       "      <td>60.87</td>\n",
       "      <td>218.59</td>\n",
       "      <td>6167.51</td>\n",
       "    </tr>\n",
       "    <tr>\n",
       "      <th>3</th>\n",
       "      <td>Gloversvillecity</td>\n",
       "      <td>NY</td>\n",
       "      <td>35</td>\n",
       "      <td>29443</td>\n",
       "      <td>1</td>\n",
       "      <td>16656</td>\n",
       "      <td>2.40</td>\n",
       "      <td>1.70</td>\n",
       "      <td>97.35</td>\n",
       "      <td>0.50</td>\n",
       "      <td>...</td>\n",
       "      <td>225</td>\n",
       "      <td>1301.78</td>\n",
       "      <td>716</td>\n",
       "      <td>4142.56</td>\n",
       "      <td>47</td>\n",
       "      <td>271.93</td>\n",
       "      <td>?</td>\n",
       "      <td>?</td>\n",
       "      <td>306.64</td>\n",
       "      <td>?</td>\n",
       "    </tr>\n",
       "    <tr>\n",
       "      <th>4</th>\n",
       "      <td>Bemidjicity</td>\n",
       "      <td>MN</td>\n",
       "      <td>7</td>\n",
       "      <td>5068</td>\n",
       "      <td>1</td>\n",
       "      <td>11245</td>\n",
       "      <td>2.76</td>\n",
       "      <td>0.53</td>\n",
       "      <td>89.16</td>\n",
       "      <td>1.17</td>\n",
       "      <td>...</td>\n",
       "      <td>91</td>\n",
       "      <td>728.93</td>\n",
       "      <td>1060</td>\n",
       "      <td>8490.87</td>\n",
       "      <td>91</td>\n",
       "      <td>728.93</td>\n",
       "      <td>5</td>\n",
       "      <td>40.05</td>\n",
       "      <td>?</td>\n",
       "      <td>9988.79</td>\n",
       "    </tr>\n",
       "  </tbody>\n",
       "</table>\n",
       "<p>5 rows × 147 columns</p>\n",
       "</div>"
      ],
      "text/plain": [
       "                       0   1   2      3    4      5     6     7      8    \\\n",
       "0  BerkeleyHeightstownship  NJ  39   5320    1  11980  3.10  1.37  91.78   \n",
       "1           Marpletownship  PA  45  47616    1  23123  2.82  0.80  95.57   \n",
       "2               Tigardcity  OR   ?      ?    1  29344  2.43  0.74  94.33   \n",
       "3         Gloversvillecity  NY  35  29443    1  16656  2.40  1.70  97.35   \n",
       "4              Bemidjicity  MN   7   5068    1  11245  2.76  0.53  89.16   \n",
       "\n",
       "    9     ...     137      138   139      140  141     142  143    144  \\\n",
       "0  6.50   ...      14   114.85   138  1132.08   16  131.26    2  16.41   \n",
       "1  3.44   ...      57   242.37   376  1598.78   26  110.55    1   4.25   \n",
       "2  3.43   ...     274   758.14  1797  4972.19  136   376.3   22  60.87   \n",
       "3  0.50   ...     225  1301.78   716  4142.56   47  271.93    ?      ?   \n",
       "4  1.17   ...      91   728.93  1060  8490.87   91  728.93    5  40.05   \n",
       "\n",
       "      145      146  \n",
       "0   41.02  1394.59  \n",
       "1  127.56  1955.95  \n",
       "2  218.59  6167.51  \n",
       "3  306.64        ?  \n",
       "4       ?  9988.79  \n",
       "\n",
       "[5 rows x 147 columns]"
      ]
     },
     "execution_count": 25,
     "metadata": {},
     "output_type": "execute_result"
    }
   ],
   "source": [
    "# now try what we did in class on 5/2 (random forest and confusion matrix to analyze)\n",
    "df = pd.read_csv('CommViolPredUnnormalizedData.txt', header=None)\n",
    "df.head(5)"
   ]
  },
  {
   "cell_type": "code",
   "execution_count": 26,
   "metadata": {
    "collapsed": false
   },
   "outputs": [
    {
     "data": {
      "text/html": [
       "<div>\n",
       "<table border=\"1\" class=\"dataframe\">\n",
       "  <thead>\n",
       "    <tr style=\"text-align: right;\">\n",
       "      <th></th>\n",
       "      <th>communityname</th>\n",
       "      <th>state</th>\n",
       "      <th>countyCode</th>\n",
       "      <th>communityCode</th>\n",
       "      <th>fold</th>\n",
       "      <th>population</th>\n",
       "      <th>householdsize</th>\n",
       "      <th>racepctblack</th>\n",
       "      <th>racePctWhite</th>\n",
       "      <th>racePctAsian</th>\n",
       "      <th>...</th>\n",
       "      <th>burglaries</th>\n",
       "      <th>burglPerPop</th>\n",
       "      <th>larcenies</th>\n",
       "      <th>larcPerPop</th>\n",
       "      <th>autoTheft</th>\n",
       "      <th>autoTheftPerPop</th>\n",
       "      <th>arsons</th>\n",
       "      <th>arsonsPerPop</th>\n",
       "      <th>ViolentCrimesPerPop</th>\n",
       "      <th>nonViolPerPop</th>\n",
       "    </tr>\n",
       "  </thead>\n",
       "  <tbody>\n",
       "    <tr>\n",
       "      <th>0</th>\n",
       "      <td>BerkeleyHeightstownship</td>\n",
       "      <td>NJ</td>\n",
       "      <td>39</td>\n",
       "      <td>5320</td>\n",
       "      <td>1</td>\n",
       "      <td>11980</td>\n",
       "      <td>3.10</td>\n",
       "      <td>1.37</td>\n",
       "      <td>91.78</td>\n",
       "      <td>6.50</td>\n",
       "      <td>...</td>\n",
       "      <td>14</td>\n",
       "      <td>114.85</td>\n",
       "      <td>138</td>\n",
       "      <td>1132.08</td>\n",
       "      <td>16</td>\n",
       "      <td>131.26</td>\n",
       "      <td>2</td>\n",
       "      <td>16.41</td>\n",
       "      <td>41.02</td>\n",
       "      <td>1394.59</td>\n",
       "    </tr>\n",
       "    <tr>\n",
       "      <th>1</th>\n",
       "      <td>Marpletownship</td>\n",
       "      <td>PA</td>\n",
       "      <td>45</td>\n",
       "      <td>47616</td>\n",
       "      <td>1</td>\n",
       "      <td>23123</td>\n",
       "      <td>2.82</td>\n",
       "      <td>0.80</td>\n",
       "      <td>95.57</td>\n",
       "      <td>3.44</td>\n",
       "      <td>...</td>\n",
       "      <td>57</td>\n",
       "      <td>242.37</td>\n",
       "      <td>376</td>\n",
       "      <td>1598.78</td>\n",
       "      <td>26</td>\n",
       "      <td>110.55</td>\n",
       "      <td>1</td>\n",
       "      <td>4.25</td>\n",
       "      <td>127.56</td>\n",
       "      <td>1955.95</td>\n",
       "    </tr>\n",
       "    <tr>\n",
       "      <th>2</th>\n",
       "      <td>Tigardcity</td>\n",
       "      <td>OR</td>\n",
       "      <td>?</td>\n",
       "      <td>?</td>\n",
       "      <td>1</td>\n",
       "      <td>29344</td>\n",
       "      <td>2.43</td>\n",
       "      <td>0.74</td>\n",
       "      <td>94.33</td>\n",
       "      <td>3.43</td>\n",
       "      <td>...</td>\n",
       "      <td>274</td>\n",
       "      <td>758.14</td>\n",
       "      <td>1797</td>\n",
       "      <td>4972.19</td>\n",
       "      <td>136</td>\n",
       "      <td>376.3</td>\n",
       "      <td>22</td>\n",
       "      <td>60.87</td>\n",
       "      <td>218.59</td>\n",
       "      <td>6167.51</td>\n",
       "    </tr>\n",
       "    <tr>\n",
       "      <th>3</th>\n",
       "      <td>Gloversvillecity</td>\n",
       "      <td>NY</td>\n",
       "      <td>35</td>\n",
       "      <td>29443</td>\n",
       "      <td>1</td>\n",
       "      <td>16656</td>\n",
       "      <td>2.40</td>\n",
       "      <td>1.70</td>\n",
       "      <td>97.35</td>\n",
       "      <td>0.50</td>\n",
       "      <td>...</td>\n",
       "      <td>225</td>\n",
       "      <td>1301.78</td>\n",
       "      <td>716</td>\n",
       "      <td>4142.56</td>\n",
       "      <td>47</td>\n",
       "      <td>271.93</td>\n",
       "      <td>?</td>\n",
       "      <td>?</td>\n",
       "      <td>306.64</td>\n",
       "      <td>?</td>\n",
       "    </tr>\n",
       "    <tr>\n",
       "      <th>4</th>\n",
       "      <td>Bemidjicity</td>\n",
       "      <td>MN</td>\n",
       "      <td>7</td>\n",
       "      <td>5068</td>\n",
       "      <td>1</td>\n",
       "      <td>11245</td>\n",
       "      <td>2.76</td>\n",
       "      <td>0.53</td>\n",
       "      <td>89.16</td>\n",
       "      <td>1.17</td>\n",
       "      <td>...</td>\n",
       "      <td>91</td>\n",
       "      <td>728.93</td>\n",
       "      <td>1060</td>\n",
       "      <td>8490.87</td>\n",
       "      <td>91</td>\n",
       "      <td>728.93</td>\n",
       "      <td>5</td>\n",
       "      <td>40.05</td>\n",
       "      <td>?</td>\n",
       "      <td>9988.79</td>\n",
       "    </tr>\n",
       "  </tbody>\n",
       "</table>\n",
       "<p>5 rows × 147 columns</p>\n",
       "</div>"
      ],
      "text/plain": [
       "             communityname state countyCode communityCode  fold  population  \\\n",
       "0  BerkeleyHeightstownship    NJ         39          5320     1       11980   \n",
       "1           Marpletownship    PA         45         47616     1       23123   \n",
       "2               Tigardcity    OR          ?             ?     1       29344   \n",
       "3         Gloversvillecity    NY         35         29443     1       16656   \n",
       "4              Bemidjicity    MN          7          5068     1       11245   \n",
       "\n",
       "   householdsize  racepctblack  racePctWhite  racePctAsian      ...        \\\n",
       "0           3.10          1.37         91.78          6.50      ...         \n",
       "1           2.82          0.80         95.57          3.44      ...         \n",
       "2           2.43          0.74         94.33          3.43      ...         \n",
       "3           2.40          1.70         97.35          0.50      ...         \n",
       "4           2.76          0.53         89.16          1.17      ...         \n",
       "\n",
       "   burglaries  burglPerPop  larcenies  larcPerPop  autoTheft  autoTheftPerPop  \\\n",
       "0          14       114.85        138     1132.08         16           131.26   \n",
       "1          57       242.37        376     1598.78         26           110.55   \n",
       "2         274       758.14       1797     4972.19        136            376.3   \n",
       "3         225      1301.78        716     4142.56         47           271.93   \n",
       "4          91       728.93       1060     8490.87         91           728.93   \n",
       "\n",
       "   arsons  arsonsPerPop  ViolentCrimesPerPop  nonViolPerPop  \n",
       "0       2         16.41                41.02        1394.59  \n",
       "1       1          4.25               127.56        1955.95  \n",
       "2      22         60.87               218.59        6167.51  \n",
       "3       ?             ?               306.64              ?  \n",
       "4       5         40.05                    ?        9988.79  \n",
       "\n",
       "[5 rows x 147 columns]"
      ]
     },
     "execution_count": 26,
     "metadata": {},
     "output_type": "execute_result"
    }
   ],
   "source": [
    "df.columns = contents_list # add headers with correct variable names\n",
    "df.head(5)"
   ]
  },
  {
   "cell_type": "code",
   "execution_count": 27,
   "metadata": {
    "collapsed": true
   },
   "outputs": [],
   "source": [
    "onlyVarNames = [ v[2] for v in varNames ] # get the variables that we don't use bc they have too many NAs"
   ]
  },
  {
   "cell_type": "code",
   "execution_count": 28,
   "metadata": {
    "collapsed": false
   },
   "outputs": [
    {
     "data": {
      "text/plain": [
       "((2215, 147), (2215, 103))"
      ]
     },
     "execution_count": 28,
     "metadata": {},
     "output_type": "execute_result"
    }
   ],
   "source": [
    "df2 = df.drop(onlyVarNames+['communityname', 'state'], axis=1) # drop vars that have a lot of NAs\n",
    "df2 = df2.drop(['fold'], axis=1)\n",
    "df.shape, df2.shape"
   ]
  },
  {
   "cell_type": "code",
   "execution_count": 29,
   "metadata": {
    "collapsed": false
   },
   "outputs": [
    {
     "data": {
      "text/html": [
       "<div>\n",
       "<table border=\"1\" class=\"dataframe\">\n",
       "  <thead>\n",
       "    <tr style=\"text-align: right;\">\n",
       "      <th></th>\n",
       "      <th>population</th>\n",
       "      <th>householdsize</th>\n",
       "      <th>racepctblack</th>\n",
       "      <th>racePctWhite</th>\n",
       "      <th>racePctAsian</th>\n",
       "      <th>racePctHisp</th>\n",
       "      <th>agePct12t21</th>\n",
       "      <th>agePct12t29</th>\n",
       "      <th>agePct16t24</th>\n",
       "      <th>agePct65up</th>\n",
       "      <th>...</th>\n",
       "      <th>PctBornSameState</th>\n",
       "      <th>PctSameHouse85</th>\n",
       "      <th>PctSameCity85</th>\n",
       "      <th>PctSameState85</th>\n",
       "      <th>LandArea</th>\n",
       "      <th>PopDens</th>\n",
       "      <th>PctUsePubTrans</th>\n",
       "      <th>LemasPctOfficDrugUn</th>\n",
       "      <th>murders</th>\n",
       "      <th>murdPerPop</th>\n",
       "    </tr>\n",
       "  </thead>\n",
       "  <tbody>\n",
       "    <tr>\n",
       "      <th>0</th>\n",
       "      <td>11980</td>\n",
       "      <td>3.10</td>\n",
       "      <td>1.37</td>\n",
       "      <td>91.78</td>\n",
       "      <td>6.50</td>\n",
       "      <td>1.88</td>\n",
       "      <td>12.47</td>\n",
       "      <td>21.44</td>\n",
       "      <td>10.93</td>\n",
       "      <td>11.33</td>\n",
       "      <td>...</td>\n",
       "      <td>53.72</td>\n",
       "      <td>65.29</td>\n",
       "      <td>78.09</td>\n",
       "      <td>89.14</td>\n",
       "      <td>6.5</td>\n",
       "      <td>1845.9</td>\n",
       "      <td>9.63</td>\n",
       "      <td>0.00</td>\n",
       "      <td>0</td>\n",
       "      <td>0.00</td>\n",
       "    </tr>\n",
       "    <tr>\n",
       "      <th>1</th>\n",
       "      <td>23123</td>\n",
       "      <td>2.82</td>\n",
       "      <td>0.80</td>\n",
       "      <td>95.57</td>\n",
       "      <td>3.44</td>\n",
       "      <td>0.85</td>\n",
       "      <td>11.01</td>\n",
       "      <td>21.30</td>\n",
       "      <td>10.48</td>\n",
       "      <td>17.18</td>\n",
       "      <td>...</td>\n",
       "      <td>77.17</td>\n",
       "      <td>71.27</td>\n",
       "      <td>90.22</td>\n",
       "      <td>96.12</td>\n",
       "      <td>10.6</td>\n",
       "      <td>2186.7</td>\n",
       "      <td>3.84</td>\n",
       "      <td>0.00</td>\n",
       "      <td>0</td>\n",
       "      <td>0.00</td>\n",
       "    </tr>\n",
       "    <tr>\n",
       "      <th>2</th>\n",
       "      <td>29344</td>\n",
       "      <td>2.43</td>\n",
       "      <td>0.74</td>\n",
       "      <td>94.33</td>\n",
       "      <td>3.43</td>\n",
       "      <td>2.35</td>\n",
       "      <td>11.36</td>\n",
       "      <td>25.88</td>\n",
       "      <td>11.01</td>\n",
       "      <td>10.28</td>\n",
       "      <td>...</td>\n",
       "      <td>44.77</td>\n",
       "      <td>36.60</td>\n",
       "      <td>61.26</td>\n",
       "      <td>82.85</td>\n",
       "      <td>10.6</td>\n",
       "      <td>2780.9</td>\n",
       "      <td>4.37</td>\n",
       "      <td>0.00</td>\n",
       "      <td>3</td>\n",
       "      <td>8.30</td>\n",
       "    </tr>\n",
       "    <tr>\n",
       "      <th>3</th>\n",
       "      <td>16656</td>\n",
       "      <td>2.40</td>\n",
       "      <td>1.70</td>\n",
       "      <td>97.35</td>\n",
       "      <td>0.50</td>\n",
       "      <td>0.70</td>\n",
       "      <td>12.55</td>\n",
       "      <td>25.20</td>\n",
       "      <td>12.19</td>\n",
       "      <td>17.57</td>\n",
       "      <td>...</td>\n",
       "      <td>88.71</td>\n",
       "      <td>56.70</td>\n",
       "      <td>90.17</td>\n",
       "      <td>96.24</td>\n",
       "      <td>5.2</td>\n",
       "      <td>3217.7</td>\n",
       "      <td>3.31</td>\n",
       "      <td>0.00</td>\n",
       "      <td>0</td>\n",
       "      <td>0.00</td>\n",
       "    </tr>\n",
       "    <tr>\n",
       "      <th>4</th>\n",
       "      <td>11245</td>\n",
       "      <td>2.76</td>\n",
       "      <td>0.53</td>\n",
       "      <td>89.16</td>\n",
       "      <td>1.17</td>\n",
       "      <td>0.52</td>\n",
       "      <td>24.46</td>\n",
       "      <td>40.53</td>\n",
       "      <td>28.69</td>\n",
       "      <td>12.65</td>\n",
       "      <td>...</td>\n",
       "      <td>73.75</td>\n",
       "      <td>42.22</td>\n",
       "      <td>60.34</td>\n",
       "      <td>89.02</td>\n",
       "      <td>11.5</td>\n",
       "      <td>974.2</td>\n",
       "      <td>0.38</td>\n",
       "      <td>0.00</td>\n",
       "      <td>0</td>\n",
       "      <td>0.00</td>\n",
       "    </tr>\n",
       "    <tr>\n",
       "      <th>5</th>\n",
       "      <td>140494</td>\n",
       "      <td>2.45</td>\n",
       "      <td>2.51</td>\n",
       "      <td>95.65</td>\n",
       "      <td>0.90</td>\n",
       "      <td>0.95</td>\n",
       "      <td>18.09</td>\n",
       "      <td>32.89</td>\n",
       "      <td>20.04</td>\n",
       "      <td>13.26</td>\n",
       "      <td>...</td>\n",
       "      <td>64.35</td>\n",
       "      <td>42.29</td>\n",
       "      <td>70.61</td>\n",
       "      <td>85.66</td>\n",
       "      <td>70.4</td>\n",
       "      <td>1995.7</td>\n",
       "      <td>0.97</td>\n",
       "      <td>0.00</td>\n",
       "      <td>7</td>\n",
       "      <td>4.63</td>\n",
       "    </tr>\n",
       "    <tr>\n",
       "      <th>6</th>\n",
       "      <td>28700</td>\n",
       "      <td>2.60</td>\n",
       "      <td>1.60</td>\n",
       "      <td>96.57</td>\n",
       "      <td>1.47</td>\n",
       "      <td>1.10</td>\n",
       "      <td>11.17</td>\n",
       "      <td>27.41</td>\n",
       "      <td>12.76</td>\n",
       "      <td>14.42</td>\n",
       "      <td>...</td>\n",
       "      <td>77.30</td>\n",
       "      <td>63.45</td>\n",
       "      <td>82.23</td>\n",
       "      <td>93.53</td>\n",
       "      <td>10.9</td>\n",
       "      <td>2643.5</td>\n",
       "      <td>9.62</td>\n",
       "      <td>0.00</td>\n",
       "      <td>0</td>\n",
       "      <td>0.00</td>\n",
       "    </tr>\n",
       "    <tr>\n",
       "      <th>7</th>\n",
       "      <td>59459</td>\n",
       "      <td>2.45</td>\n",
       "      <td>14.20</td>\n",
       "      <td>84.87</td>\n",
       "      <td>0.40</td>\n",
       "      <td>0.63</td>\n",
       "      <td>15.31</td>\n",
       "      <td>27.93</td>\n",
       "      <td>14.78</td>\n",
       "      <td>14.60</td>\n",
       "      <td>...</td>\n",
       "      <td>73.70</td>\n",
       "      <td>54.85</td>\n",
       "      <td>85.55</td>\n",
       "      <td>91.51</td>\n",
       "      <td>39.2</td>\n",
       "      <td>1515.3</td>\n",
       "      <td>0.70</td>\n",
       "      <td>0.00</td>\n",
       "      <td>8</td>\n",
       "      <td>13.13</td>\n",
       "    </tr>\n",
       "    <tr>\n",
       "      <th>8</th>\n",
       "      <td>74111</td>\n",
       "      <td>2.46</td>\n",
       "      <td>0.35</td>\n",
       "      <td>97.11</td>\n",
       "      <td>1.25</td>\n",
       "      <td>0.73</td>\n",
       "      <td>16.64</td>\n",
       "      <td>35.16</td>\n",
       "      <td>20.33</td>\n",
       "      <td>8.58</td>\n",
       "      <td>...</td>\n",
       "      <td>58.82</td>\n",
       "      <td>40.72</td>\n",
       "      <td>67.97</td>\n",
       "      <td>81.39</td>\n",
       "      <td>30.9</td>\n",
       "      <td>2399.3</td>\n",
       "      <td>1.41</td>\n",
       "      <td>0.00</td>\n",
       "      <td>0</td>\n",
       "      <td>0.00</td>\n",
       "    </tr>\n",
       "    <tr>\n",
       "      <th>9</th>\n",
       "      <td>103590</td>\n",
       "      <td>2.62</td>\n",
       "      <td>23.14</td>\n",
       "      <td>67.60</td>\n",
       "      <td>0.92</td>\n",
       "      <td>16.35</td>\n",
       "      <td>19.88</td>\n",
       "      <td>34.55</td>\n",
       "      <td>21.62</td>\n",
       "      <td>13.12</td>\n",
       "      <td>...</td>\n",
       "      <td>75.59</td>\n",
       "      <td>42.33</td>\n",
       "      <td>74.05</td>\n",
       "      <td>92.12</td>\n",
       "      <td>78.5</td>\n",
       "      <td>1319.3</td>\n",
       "      <td>0.76</td>\n",
       "      <td>6.57</td>\n",
       "      <td>29</td>\n",
       "      <td>26.88</td>\n",
       "    </tr>\n",
       "  </tbody>\n",
       "</table>\n",
       "<p>10 rows × 103 columns</p>\n",
       "</div>"
      ],
      "text/plain": [
       "   population  householdsize  racepctblack  racePctWhite  racePctAsian  \\\n",
       "0       11980           3.10          1.37         91.78          6.50   \n",
       "1       23123           2.82          0.80         95.57          3.44   \n",
       "2       29344           2.43          0.74         94.33          3.43   \n",
       "3       16656           2.40          1.70         97.35          0.50   \n",
       "4       11245           2.76          0.53         89.16          1.17   \n",
       "5      140494           2.45          2.51         95.65          0.90   \n",
       "6       28700           2.60          1.60         96.57          1.47   \n",
       "7       59459           2.45         14.20         84.87          0.40   \n",
       "8       74111           2.46          0.35         97.11          1.25   \n",
       "9      103590           2.62         23.14         67.60          0.92   \n",
       "\n",
       "   racePctHisp  agePct12t21  agePct12t29  agePct16t24  agePct65up     ...      \\\n",
       "0         1.88        12.47        21.44        10.93       11.33     ...       \n",
       "1         0.85        11.01        21.30        10.48       17.18     ...       \n",
       "2         2.35        11.36        25.88        11.01       10.28     ...       \n",
       "3         0.70        12.55        25.20        12.19       17.57     ...       \n",
       "4         0.52        24.46        40.53        28.69       12.65     ...       \n",
       "5         0.95        18.09        32.89        20.04       13.26     ...       \n",
       "6         1.10        11.17        27.41        12.76       14.42     ...       \n",
       "7         0.63        15.31        27.93        14.78       14.60     ...       \n",
       "8         0.73        16.64        35.16        20.33        8.58     ...       \n",
       "9        16.35        19.88        34.55        21.62       13.12     ...       \n",
       "\n",
       "   PctBornSameState  PctSameHouse85  PctSameCity85  PctSameState85  LandArea  \\\n",
       "0             53.72           65.29          78.09           89.14       6.5   \n",
       "1             77.17           71.27          90.22           96.12      10.6   \n",
       "2             44.77           36.60          61.26           82.85      10.6   \n",
       "3             88.71           56.70          90.17           96.24       5.2   \n",
       "4             73.75           42.22          60.34           89.02      11.5   \n",
       "5             64.35           42.29          70.61           85.66      70.4   \n",
       "6             77.30           63.45          82.23           93.53      10.9   \n",
       "7             73.70           54.85          85.55           91.51      39.2   \n",
       "8             58.82           40.72          67.97           81.39      30.9   \n",
       "9             75.59           42.33          74.05           92.12      78.5   \n",
       "\n",
       "   PopDens  PctUsePubTrans  LemasPctOfficDrugUn  murders  murdPerPop  \n",
       "0   1845.9            9.63                 0.00        0        0.00  \n",
       "1   2186.7            3.84                 0.00        0        0.00  \n",
       "2   2780.9            4.37                 0.00        3        8.30  \n",
       "3   3217.7            3.31                 0.00        0        0.00  \n",
       "4    974.2            0.38                 0.00        0        0.00  \n",
       "5   1995.7            0.97                 0.00        7        4.63  \n",
       "6   2643.5            9.62                 0.00        0        0.00  \n",
       "7   1515.3            0.70                 0.00        8       13.13  \n",
       "8   2399.3            1.41                 0.00        0        0.00  \n",
       "9   1319.3            0.76                 6.57       29       26.88  \n",
       "\n",
       "[10 rows x 103 columns]"
      ]
     },
     "execution_count": 29,
     "metadata": {},
     "output_type": "execute_result"
    }
   ],
   "source": [
    "df2.head(10)"
   ]
  },
  {
   "cell_type": "code",
   "execution_count": 30,
   "metadata": {
    "collapsed": false
   },
   "outputs": [
    {
     "data": {
      "text/plain": [
       "(2215, 103)"
      ]
     },
     "execution_count": 30,
     "metadata": {},
     "output_type": "execute_result"
    }
   ],
   "source": [
    "# double check that there are no '?'s (NAs)\n",
    "df2 = df2.replace('?', np.nan)\n",
    "df2 = df2.dropna(axis=0)\n",
    "df2.shape"
   ]
  },
  {
   "cell_type": "code",
   "execution_count": 31,
   "metadata": {
    "collapsed": false
   },
   "outputs": [
    {
     "data": {
      "text/plain": [
       "((1994, 103), (1994,))"
      ]
     },
     "execution_count": 31,
     "metadata": {},
     "output_type": "execute_result"
    }
   ],
   "source": [
    "X = df2[df.ViolentCrimesPerPop != '?'] # didn't get rid of '?' in the y (ViolentCrimesPerPop) yet\n",
    "y = df.ViolentCrimesPerPop[df.ViolentCrimesPerPop != '?']\n",
    "y = pd.Series([float(a) > AVG_CRIME for a in y ]) # make the y 0 or 1\n",
    "X.shape, y.shape"
   ]
  },
  {
   "cell_type": "code",
   "execution_count": 32,
   "metadata": {
    "collapsed": false
   },
   "outputs": [],
   "source": [
    "# X.dtypes # check that datatypes are numbers"
   ]
  },
  {
   "cell_type": "code",
   "execution_count": 33,
   "metadata": {
    "collapsed": true
   },
   "outputs": [],
   "source": [
    "from sklearn.ensemble import RandomForestClassifier\n",
    "clf = RandomForestClassifier(n_estimators=20)"
   ]
  },
  {
   "cell_type": "code",
   "execution_count": 34,
   "metadata": {
    "collapsed": false
   },
   "outputs": [
    {
     "data": {
      "text/plain": [
       "((1595, 103), (399, 103), (1595,), (399,))"
      ]
     },
     "execution_count": 34,
     "metadata": {},
     "output_type": "execute_result"
    }
   ],
   "source": [
    "from sklearn.model_selection import train_test_split\n",
    "X_train, X_test, y_train, y_test = train_test_split(X, y, test_size=0.2, random_state=364)\n",
    "X_train.shape, X_test.shape, y_train.shape, y_test.shape"
   ]
  },
  {
   "cell_type": "code",
   "execution_count": 35,
   "metadata": {
    "collapsed": false
   },
   "outputs": [
    {
     "data": {
      "text/plain": [
       "RandomForestClassifier(bootstrap=True, class_weight=None, criterion='gini',\n",
       "            max_depth=None, max_features='auto', max_leaf_nodes=None,\n",
       "            min_impurity_split=1e-07, min_samples_leaf=1,\n",
       "            min_samples_split=2, min_weight_fraction_leaf=0.0,\n",
       "            n_estimators=20, n_jobs=1, oob_score=False, random_state=None,\n",
       "            verbose=0, warm_start=False)"
      ]
     },
     "execution_count": 35,
     "metadata": {},
     "output_type": "execute_result"
    }
   ],
   "source": [
    "clf.fit(X_train, y_train)"
   ]
  },
  {
   "cell_type": "code",
   "execution_count": 36,
   "metadata": {
    "collapsed": true
   },
   "outputs": [],
   "source": [
    "predicted_rf = clf.predict(X_test)"
   ]
  },
  {
   "cell_type": "code",
   "execution_count": 37,
   "metadata": {
    "collapsed": false
   },
   "outputs": [],
   "source": [
    "# random forest \n",
    "cm1 = confusion_matrix(y_test, predicted_rf)"
   ]
  },
  {
   "cell_type": "code",
   "execution_count": 38,
   "metadata": {
    "collapsed": false
   },
   "outputs": [
    {
     "data": {
      "text/plain": [
       "{'ACC': array([ 0.87468672,  0.87468672]),\n",
       " 'FDR': array([ 0.10526316,  0.1754386 ]),\n",
       " 'FNR': array([ 0.07272727,  0.24193548]),\n",
       " 'FPR': array([ 0.24193548,  0.07272727]),\n",
       " 'NPV': array([ 0.8245614 ,  0.89473684]),\n",
       " 'PPV': array([ 0.89473684,  0.8245614 ]),\n",
       " 'TNR': array([ 0.75806452,  0.92727273]),\n",
       " 'TPR': array([ 0.92727273,  0.75806452])}"
      ]
     },
     "execution_count": 38,
     "metadata": {},
     "output_type": "execute_result"
    }
   ],
   "source": [
    "statistical_measures(cm1)"
   ]
  },
  {
   "cell_type": "code",
   "execution_count": 39,
   "metadata": {
    "collapsed": false
   },
   "outputs": [
    {
     "name": "stderr",
     "output_type": "stream",
     "text": [
      "/Users/tiffanyzhu/miniconda3/lib/python3.5/site-packages/IPython/html.py:14: ShimWarning: The `IPython.html` package has been deprecated. You should import from `notebook` instead. `IPython.html.widgets` has moved to `ipywidgets`.\n",
      "  \"`IPython.html.widgets` has moved to `ipywidgets`.\", ShimWarning)\n"
     ]
    },
    {
     "name": "stdout",
     "output_type": "stream",
     "text": [
      "Feature ranking:\n",
      "1. feature 3 racePctWhite (0.042743)\n",
      "2. feature 43 PctKids2Par (0.042022)\n",
      "3. feature 2 racepctblack (0.037905)\n",
      "4. feature 42 PctFam2Par (0.035855)\n",
      "5. feature 49 PctKidsBornNeverMar (0.035196)\n",
      "6. feature 44 PctYoungKids2Par (0.030858)\n",
      "7. feature 102 murdPerPop (0.024742)\n",
      "8. feature 15 pctWInvInc (0.022869)\n",
      "9. feature 17 pctWPubAsst (0.021122)\n",
      "10. feature 76 PctHousNoPhone (0.020522)\n"
     ]
    },
    {
     "data": {
      "image/png": "[encoded data removed]",
      "text/plain": [
       "<matplotlib.figure.Figure at 0x1145535c0>"
      ]
     },
     "metadata": {},
     "output_type": "display_data"
    }
   ],
   "source": [
    "from sklearn.datasets import make_classification\n",
    "from sklearn.ensemble import ExtraTreesClassifier\n",
    "import seaborn as sns\n",
    "\n",
    "# Build a forest and compute the feature importances\n",
    "forest = ExtraTreesClassifier(n_estimators=250,\n",
    "                              random_state=0)\n",
    "\n",
    "#X_arr = feature_matrix_clean\n",
    "#y_arr = [ (1 if (x > AVG_CRIME) else 0) for x in target_vector1_clean]\n",
    "forest.fit(X, y)\n",
    "importances = forest.feature_importances_\n",
    "std = np.std([tree.feature_importances_ for tree in forest.estimators_],\n",
    "             axis=0)\n",
    "indices = np.argsort(importances)[::-1]\n",
    "\n",
    "# Print the feature ranking\n",
    "print(\"Feature ranking:\")\n",
    "\n",
    "#num_attributes = len(X_arr[0])\n",
    "top_x = 10 # just get top 10\n",
    "for f in range(top_x):\n",
    "    print(\"%d. feature %d %s (%f)\" % (f + 1, indices[f], df2.columns[indices[f]], importances[indices[f]]))\n",
    "\n",
    "# Plot the feature importances of the forest\n",
    "plt.figure()\n",
    "plt.title(\"Feature importances\")\n",
    "plt.bar(range(top_x), importances[indices[:top_x]],\n",
    "       color=\"r\", yerr=std[indices[:top_x]], align=\"center\")\n",
    "plt.xticks(range(top_x), [df2.columns[indices[i]] for i in range(top_x)], rotation = 90)\n",
    "plt.xlim([-1, top_x])\n",
    "plt.show()"
   ]
  },
  {
   "cell_type": "markdown",
   "metadata": {},
   "source": [
    "Also with random forests, we can look at variable importance. The plot above shows the top 10 most important variables. We get that racePctWhite is the most important, so the percentage of caucasians in the city seems to be the most important factor. pctKids2Par is the percentage of kids in family housing with two parents, next is \n",
    "racepctblack (percentage of population that is african american). Next is PctFam2Par, percentage of families (with kids) that are headed by two parents. The fifth most important variables is PctKidsBornNeverMar, percentage of kids born to never married. Looking at the graph and numbers though, it seems that the importance values are actually all quite close and the most important is not so far from the second most important variable.\n"
   ]
  },
  {
   "cell_type": "code",
   "execution_count": 40,
   "metadata": {
    "collapsed": false
   },
   "outputs": [
    {
     "name": "stdout",
     "output_type": "stream",
     "text": [
      "0.856569709127\n",
      "             precision    recall  f1-score   support\n",
      "\n",
      "      False       0.88      0.92      0.90      1362\n",
      "       True       0.81      0.72      0.76       632\n",
      "\n",
      "avg / total       0.85      0.86      0.85      1994\n",
      "\n"
     ]
    }
   ],
   "source": [
    "# random forest w/ CV\n",
    "predicted_rf_cv = cross_validation.cross_val_predict(RandomForestClassifier(n_estimators=20), X, y, cv=10)\n",
    "print(metrics.accuracy_score(y, predicted_rf_cv))\n",
    "print(metrics.classification_report(y, predicted_rf_cv))"
   ]
  },
  {
   "cell_type": "code",
   "execution_count": 41,
   "metadata": {
    "collapsed": false
   },
   "outputs": [
    {
     "data": {
      "text/plain": [
       "{'ACC': array([ 0.85656971,  0.85656971]),\n",
       " 'FDR': array([ 0.12430168,  0.19217082]),\n",
       " 'FNR': array([ 0.07929515,  0.28164557]),\n",
       " 'FPR': array([ 0.28164557,  0.07929515]),\n",
       " 'NPV': array([ 0.80782918,  0.87569832]),\n",
       " 'PPV': array([ 0.87569832,  0.80782918]),\n",
       " 'TNR': array([ 0.71835443,  0.92070485]),\n",
       " 'TPR': array([ 0.92070485,  0.71835443])}"
      ]
     },
     "execution_count": 41,
     "metadata": {},
     "output_type": "execute_result"
    }
   ],
   "source": [
    "cm1b = confusion_matrix(y, predicted_rf_cv)\n",
    "statistical_measures(cm1b)"
   ]
  },
  {
   "cell_type": "code",
   "execution_count": null,
   "metadata": {
    "collapsed": false
   },
   "outputs": [],
   "source": [
    "sum(y) / len(y)"
   ]
  },
  {
   "cell_type": "markdown",
   "metadata": {},
   "source": [
    "## 3.4 Using the top 10 most important variables\n",
    "\n",
    "From the variable importance plots, we try just using the top 10 variables to see how good of predictions we can get. Below, we use random forest and logistic regression and get similar results, the accuracy is around 0.85. This is worse than using logistic regression on all of the variables, but virtually the same as using random forest with all of the variables. This result makes sense since we are taking the top variables from generated by fitting a random forest."
   ]
  },
  {
   "cell_type": "code",
   "execution_count": 83,
   "metadata": {
    "collapsed": false
   },
   "outputs": [
    {
     "data": {
      "text/html": [
       "<div>\n",
       "<table border=\"1\" class=\"dataframe\">\n",
       "  <thead>\n",
       "    <tr style=\"text-align: right;\">\n",
       "      <th></th>\n",
       "      <th>racePctWhite</th>\n",
       "      <th>PctKids2Par</th>\n",
       "      <th>racepctblack</th>\n",
       "      <th>PctFam2Par</th>\n",
       "      <th>PctKidsBornNeverMar</th>\n",
       "      <th>PctYoungKids2Par</th>\n",
       "      <th>murdPerPop</th>\n",
       "      <th>pctWInvInc</th>\n",
       "      <th>pctWInvInc</th>\n",
       "      <th>pctWPubAsst</th>\n",
       "      <th>PctHousNoPhone</th>\n",
       "    </tr>\n",
       "  </thead>\n",
       "  <tbody>\n",
       "    <tr>\n",
       "      <th>0</th>\n",
       "      <td>91.78</td>\n",
       "      <td>90.17</td>\n",
       "      <td>1.37</td>\n",
       "      <td>91.43</td>\n",
       "      <td>0.36</td>\n",
       "      <td>95.78</td>\n",
       "      <td>0.0</td>\n",
       "      <td>70.20</td>\n",
       "      <td>70.20</td>\n",
       "      <td>1.03</td>\n",
       "      <td>0.00</td>\n",
       "    </tr>\n",
       "    <tr>\n",
       "      <th>1</th>\n",
       "      <td>95.57</td>\n",
       "      <td>85.33</td>\n",
       "      <td>0.80</td>\n",
       "      <td>86.91</td>\n",
       "      <td>0.24</td>\n",
       "      <td>96.82</td>\n",
       "      <td>0.0</td>\n",
       "      <td>64.11</td>\n",
       "      <td>64.11</td>\n",
       "      <td>2.75</td>\n",
       "      <td>0.31</td>\n",
       "    </tr>\n",
       "  </tbody>\n",
       "</table>\n",
       "</div>"
      ],
      "text/plain": [
       "   racePctWhite  PctKids2Par  racepctblack  PctFam2Par  PctKidsBornNeverMar  \\\n",
       "0         91.78        90.17          1.37       91.43                 0.36   \n",
       "1         95.57        85.33          0.80       86.91                 0.24   \n",
       "\n",
       "   PctYoungKids2Par  murdPerPop  pctWInvInc  pctWInvInc  pctWPubAsst  \\\n",
       "0             95.78         0.0       70.20       70.20         1.03   \n",
       "1             96.82         0.0       64.11       64.11         2.75   \n",
       "\n",
       "   PctHousNoPhone  \n",
       "0            0.00  \n",
       "1            0.31  "
      ]
     },
     "execution_count": 83,
     "metadata": {},
     "output_type": "execute_result"
    }
   ],
   "source": [
    "df_sub = df2[['racePctWhite','PctKids2Par','racepctblack','PctFam2Par', \n",
    "              'PctKidsBornNeverMar', 'PctYoungKids2Par', 'murdPerPop',\n",
    "             'pctWInvInc','pctWInvInc','pctWPubAsst', 'PctHousNoPhone']]\n",
    "df_sub.head(2)"
   ]
  },
  {
   "cell_type": "code",
   "execution_count": 84,
   "metadata": {
    "collapsed": false
   },
   "outputs": [
    {
     "data": {
      "text/plain": [
       "{'ACC': array([ 0.85155466,  0.85155466]),\n",
       " 'FDR': array([ 0.12411848,  0.20833333]),\n",
       " 'FNR': array([ 0.08810573,  0.27848101]),\n",
       " 'FPR': array([ 0.27848101,  0.08810573]),\n",
       " 'NPV': array([ 0.79166667,  0.87588152]),\n",
       " 'PPV': array([ 0.87588152,  0.79166667]),\n",
       " 'TNR': array([ 0.72151899,  0.91189427]),\n",
       " 'TPR': array([ 0.91189427,  0.72151899])}"
      ]
     },
     "execution_count": 84,
     "metadata": {},
     "output_type": "execute_result"
    }
   ],
   "source": [
    "X_sub = df_sub[df.ViolentCrimesPerPop != '?'] # didn't get rid of '?' in the y (ViolentCrimesPerPop) yet\n",
    "y_sub = df.ViolentCrimesPerPop[df.ViolentCrimesPerPop != '?']\n",
    "y_sub = y # make the y 0 or 1\n",
    "\n",
    "predicted_rf_cv_sub = cross_validation.cross_val_predict(RandomForestClassifier(n_estimators=20), X_sub, y_sub, cv=10)\n",
    "cm_sub = confusion_matrix(y_sub, predicted_rf_cv_sub)\n",
    "statistical_measures(cm_sub)"
   ]
  },
  {
   "cell_type": "code",
   "execution_count": 85,
   "metadata": {
    "collapsed": false
   },
   "outputs": [
    {
     "data": {
      "text/plain": [
       "{'ACC': array([ 0.84603811,  0.84603811]),\n",
       " 'FDR': array([ 0.13137666,  0.21136767]),\n",
       " 'FNR': array([ 0.08737151,  0.29746835]),\n",
       " 'FPR': array([ 0.29746835,  0.08737151]),\n",
       " 'NPV': array([ 0.78863233,  0.86862334]),\n",
       " 'PPV': array([ 0.86862334,  0.78863233]),\n",
       " 'TNR': array([ 0.70253165,  0.91262849]),\n",
       " 'TPR': array([ 0.91262849,  0.70253165])}"
      ]
     },
     "execution_count": 85,
     "metadata": {},
     "output_type": "execute_result"
    }
   ],
   "source": [
    "predicted_rf_cv_sub = cross_validation.cross_val_predict(RandomForestClassifier(n_estimators=20), X_sub, y_sub, cv=10)\n",
    "cm_sub = confusion_matrix(y_sub, predicted_rf_cv_sub)\n",
    "statistical_measures(cm_sub)"
   ]
  },
  {
   "cell_type": "markdown",
   "metadata": {},
   "source": [
    "## 4 Trying Subsets of the Variables\n",
    "In all of section 3, we used all of the variables (except for the variables that contained mostly NAs). Now we are interested in looking at different subsets, such as variables relating to education, race, etc. to see if we can make accurate predictions with less variables.\n",
    "\n",
    "### 4.1 Education\n",
    "First we try education related variables, PctLess9thGrade (the percentage of people 25 and over with less than a 9th grade education), PctNotHsGrad (percentage of people 25 and over that are not high school graduates), and PctBSorMore (percentage of people 25 and over with a bachelors degree of higher education). Below, we will find that just using education gives a much lower accuracy than what we have seen from other models that use more attributes. We used random forest and logistic regression, both give similar results, logistic regression is slightly better. We'll analyze the slightly better model (logistic regression), the accuracy is around 0.75 (error is around 0.25, quite close to the base rate of 0.31). The false negative rate is also quite high at 0.54, that is also concerning to see."
   ]
  },
  {
   "cell_type": "code",
   "execution_count": 46,
   "metadata": {
    "collapsed": false
   },
   "outputs": [
    {
     "data": {
      "text/html": [
       "<div>\n",
       "<table border=\"1\" class=\"dataframe\">\n",
       "  <thead>\n",
       "    <tr style=\"text-align: right;\">\n",
       "      <th></th>\n",
       "      <th>PctLess9thGrade</th>\n",
       "      <th>PctNotHSGrad</th>\n",
       "      <th>PctBSorMore</th>\n",
       "    </tr>\n",
       "  </thead>\n",
       "  <tbody>\n",
       "    <tr>\n",
       "      <th>0</th>\n",
       "      <td>5.81</td>\n",
       "      <td>9.90</td>\n",
       "      <td>48.18</td>\n",
       "    </tr>\n",
       "    <tr>\n",
       "      <th>1</th>\n",
       "      <td>5.61</td>\n",
       "      <td>13.72</td>\n",
       "      <td>29.89</td>\n",
       "    </tr>\n",
       "    <tr>\n",
       "      <th>2</th>\n",
       "      <td>2.80</td>\n",
       "      <td>9.09</td>\n",
       "      <td>30.13</td>\n",
       "    </tr>\n",
       "    <tr>\n",
       "      <th>3</th>\n",
       "      <td>11.05</td>\n",
       "      <td>33.68</td>\n",
       "      <td>10.81</td>\n",
       "    </tr>\n",
       "    <tr>\n",
       "      <th>4</th>\n",
       "      <td>12.15</td>\n",
       "      <td>23.06</td>\n",
       "      <td>25.28</td>\n",
       "    </tr>\n",
       "  </tbody>\n",
       "</table>\n",
       "</div>"
      ],
      "text/plain": [
       "   PctLess9thGrade  PctNotHSGrad  PctBSorMore\n",
       "0             5.81          9.90        48.18\n",
       "1             5.61         13.72        29.89\n",
       "2             2.80          9.09        30.13\n",
       "3            11.05         33.68        10.81\n",
       "4            12.15         23.06        25.28"
      ]
     },
     "execution_count": 46,
     "metadata": {},
     "output_type": "execute_result"
    }
   ],
   "source": [
    "df_ed = df2[['PctLess9thGrade','PctNotHSGrad','PctBSorMore']]\n",
    "df_ed.head(5)"
   ]
  },
  {
   "cell_type": "code",
   "execution_count": 54,
   "metadata": {
    "collapsed": false
   },
   "outputs": [
    {
     "data": {
      "text/plain": [
       "((1994, 3), (1994,))"
      ]
     },
     "execution_count": 54,
     "metadata": {},
     "output_type": "execute_result"
    }
   ],
   "source": [
    "X_ed = df_ed[df.ViolentCrimesPerPop != '?'] # didn't get rid of '?' in the y (ViolentCrimesPerPop) yet\n",
    "y_ed = df.ViolentCrimesPerPop[df.ViolentCrimesPerPop != '?']\n",
    "y_ed = y # make the y 0 or 1\n",
    "X_ed.shape, y_ed.shape"
   ]
  },
  {
   "cell_type": "code",
   "execution_count": 62,
   "metadata": {
    "collapsed": false
   },
   "outputs": [
    {
     "data": {
      "text/plain": [
       "{'ACC': array([ 0.72768305,  0.72768305]),\n",
       " 'FDR': array([ 0.22199593,  0.41458733]),\n",
       " 'FNR': array([ 0.15859031,  0.51740506]),\n",
       " 'FPR': array([ 0.51740506,  0.15859031]),\n",
       " 'NPV': array([ 0.58541267,  0.77800407]),\n",
       " 'PPV': array([ 0.77800407,  0.58541267]),\n",
       " 'TNR': array([ 0.48259494,  0.84140969]),\n",
       " 'TPR': array([ 0.84140969,  0.48259494])}"
      ]
     },
     "execution_count": 62,
     "metadata": {},
     "output_type": "execute_result"
    }
   ],
   "source": [
    "predicted_rf_cv_ed = cross_validation.cross_val_predict(RandomForestClassifier(n_estimators=20), X_ed, y_ed, cv=10)\n",
    "cm_ed = confusion_matrix(y_ed, predicted_rf_cv_ed)\n",
    "statistical_measures(cm_ed)"
   ]
  },
  {
   "cell_type": "code",
   "execution_count": 63,
   "metadata": {
    "collapsed": false
   },
   "outputs": [
    {
     "data": {
      "text/plain": [
       "{'ACC': array([ 0.74974925,  0.74974925]),\n",
       " 'FDR': array([ 0.22215068,  0.34920635]),\n",
       " 'FNR': array([ 0.11306902,  0.54588608]),\n",
       " 'FPR': array([ 0.54588608,  0.11306902]),\n",
       " 'NPV': array([ 0.65079365,  0.77784932]),\n",
       " 'PPV': array([ 0.77784932,  0.65079365]),\n",
       " 'TNR': array([ 0.45411392,  0.88693098]),\n",
       " 'TPR': array([ 0.88693098,  0.45411392])}"
      ]
     },
     "execution_count": 63,
     "metadata": {},
     "output_type": "execute_result"
    }
   ],
   "source": [
    "predicted_ed = cross_validation.cross_val_predict(linear_model.LogisticRegression(penalty='l2'), X_ed, y_ed, cv=10)\n",
    "cm_ed2 = confusion_matrix(y_ed, predicted_ed)\n",
    "statistical_measures(cm_ed2)"
   ]
  },
  {
   "cell_type": "markdown",
   "metadata": {},
   "source": [
    "### 4.2 Family Information\n",
    "\n",
    "We next explore information about families and how this might affect crime rates. We will look a variables such as the percentage of male and females who are diveroced or never married, the percent of familes with kids (under 4, teenagers) and kids who do not have parents who are married."
   ]
  },
  {
   "cell_type": "code",
   "execution_count": 58,
   "metadata": {
    "collapsed": false,
    "scrolled": true
   },
   "outputs": [
    {
     "data": {
      "text/html": [
       "<div>\n",
       "<table border=\"1\" class=\"dataframe\">\n",
       "  <thead>\n",
       "    <tr style=\"text-align: right;\">\n",
       "      <th></th>\n",
       "      <th>MalePctDivorce</th>\n",
       "      <th>MalePctNevMarr</th>\n",
       "      <th>FemalePctDiv</th>\n",
       "      <th>TotalPctDiv</th>\n",
       "      <th>PersPerFam</th>\n",
       "      <th>PctFam2Par</th>\n",
       "      <th>PctKids2Par</th>\n",
       "      <th>PctYoungKids2Par</th>\n",
       "      <th>PctTeen2Par</th>\n",
       "      <th>PctWorkMomYoungKids</th>\n",
       "      <th>PctWorkMom</th>\n",
       "      <th>NumKidsBornNeverMar</th>\n",
       "      <th>PctKidsBornNeverMar</th>\n",
       "    </tr>\n",
       "  </thead>\n",
       "  <tbody>\n",
       "    <tr>\n",
       "      <th>0</th>\n",
       "      <td>3.67</td>\n",
       "      <td>26.38</td>\n",
       "      <td>5.22</td>\n",
       "      <td>4.47</td>\n",
       "      <td>3.22</td>\n",
       "      <td>91.43</td>\n",
       "      <td>90.17</td>\n",
       "      <td>95.78</td>\n",
       "      <td>95.81</td>\n",
       "      <td>44.56</td>\n",
       "      <td>58.88</td>\n",
       "      <td>31</td>\n",
       "      <td>0.36</td>\n",
       "    </tr>\n",
       "    <tr>\n",
       "      <th>1</th>\n",
       "      <td>4.23</td>\n",
       "      <td>27.99</td>\n",
       "      <td>6.45</td>\n",
       "      <td>5.42</td>\n",
       "      <td>3.11</td>\n",
       "      <td>86.91</td>\n",
       "      <td>85.33</td>\n",
       "      <td>96.82</td>\n",
       "      <td>86.46</td>\n",
       "      <td>51.14</td>\n",
       "      <td>62.43</td>\n",
       "      <td>43</td>\n",
       "      <td>0.24</td>\n",
       "    </tr>\n",
       "    <tr>\n",
       "      <th>2</th>\n",
       "      <td>10.10</td>\n",
       "      <td>25.78</td>\n",
       "      <td>14.76</td>\n",
       "      <td>12.55</td>\n",
       "      <td>2.95</td>\n",
       "      <td>78.54</td>\n",
       "      <td>78.85</td>\n",
       "      <td>92.37</td>\n",
       "      <td>75.72</td>\n",
       "      <td>66.08</td>\n",
       "      <td>74.19</td>\n",
       "      <td>164</td>\n",
       "      <td>0.88</td>\n",
       "    </tr>\n",
       "    <tr>\n",
       "      <th>3</th>\n",
       "      <td>10.98</td>\n",
       "      <td>28.15</td>\n",
       "      <td>14.47</td>\n",
       "      <td>12.91</td>\n",
       "      <td>2.98</td>\n",
       "      <td>64.02</td>\n",
       "      <td>62.36</td>\n",
       "      <td>65.38</td>\n",
       "      <td>67.43</td>\n",
       "      <td>59.59</td>\n",
       "      <td>70.27</td>\n",
       "      <td>561</td>\n",
       "      <td>3.84</td>\n",
       "    </tr>\n",
       "    <tr>\n",
       "      <th>4</th>\n",
       "      <td>7.51</td>\n",
       "      <td>50.66</td>\n",
       "      <td>11.64</td>\n",
       "      <td>9.73</td>\n",
       "      <td>2.98</td>\n",
       "      <td>58.59</td>\n",
       "      <td>55.20</td>\n",
       "      <td>66.51</td>\n",
       "      <td>79.17</td>\n",
       "      <td>61.22</td>\n",
       "      <td>68.94</td>\n",
       "      <td>402</td>\n",
       "      <td>4.70</td>\n",
       "    </tr>\n",
       "  </tbody>\n",
       "</table>\n",
       "</div>"
      ],
      "text/plain": [
       "   MalePctDivorce  MalePctNevMarr  FemalePctDiv  TotalPctDiv  PersPerFam  \\\n",
       "0            3.67           26.38          5.22         4.47        3.22   \n",
       "1            4.23           27.99          6.45         5.42        3.11   \n",
       "2           10.10           25.78         14.76        12.55        2.95   \n",
       "3           10.98           28.15         14.47        12.91        2.98   \n",
       "4            7.51           50.66         11.64         9.73        2.98   \n",
       "\n",
       "   PctFam2Par  PctKids2Par  PctYoungKids2Par  PctTeen2Par  \\\n",
       "0       91.43        90.17             95.78        95.81   \n",
       "1       86.91        85.33             96.82        86.46   \n",
       "2       78.54        78.85             92.37        75.72   \n",
       "3       64.02        62.36             65.38        67.43   \n",
       "4       58.59        55.20             66.51        79.17   \n",
       "\n",
       "   PctWorkMomYoungKids  PctWorkMom  NumKidsBornNeverMar  PctKidsBornNeverMar  \n",
       "0                44.56       58.88                   31                 0.36  \n",
       "1                51.14       62.43                   43                 0.24  \n",
       "2                66.08       74.19                  164                 0.88  \n",
       "3                59.59       70.27                  561                 3.84  \n",
       "4                61.22       68.94                  402                 4.70  "
      ]
     },
     "execution_count": 58,
     "metadata": {},
     "output_type": "execute_result"
    }
   ],
   "source": [
    "df_fam = df2.ix[:,37:50]\n",
    "df_fam.head(5)"
   ]
  },
  {
   "cell_type": "code",
   "execution_count": 70,
   "metadata": {
    "collapsed": true
   },
   "outputs": [],
   "source": [
    "X_fam = df_fam[df.ViolentCrimesPerPop != '?'] # didn't get rid of '?' in the y (ViolentCrimesPerPop) yet\n",
    "y_fam = df.ViolentCrimesPerPop[df.ViolentCrimesPerPop != '?']\n",
    "y_fam = y"
   ]
  },
  {
   "cell_type": "code",
   "execution_count": 71,
   "metadata": {
    "collapsed": false
   },
   "outputs": [
    {
     "data": {
      "text/plain": [
       "{'ACC': array([ 0.84503511,  0.84503511]),\n",
       " 'FDR': array([ 0.13664596,  0.20366972]),\n",
       " 'FNR': array([ 0.0814978 ,  0.31329114]),\n",
       " 'FPR': array([ 0.31329114,  0.0814978 ]),\n",
       " 'NPV': array([ 0.79633028,  0.86335404]),\n",
       " 'PPV': array([ 0.86335404,  0.79633028]),\n",
       " 'TNR': array([ 0.68670886,  0.9185022 ]),\n",
       " 'TPR': array([ 0.9185022 ,  0.68670886])}"
      ]
     },
     "execution_count": 71,
     "metadata": {},
     "output_type": "execute_result"
    }
   ],
   "source": [
    "predicted_rf_cv_fam = cross_validation.cross_val_predict(RandomForestClassifier(n_estimators=20), X_fam, y_fam, cv=10)\n",
    "cm_fam = confusion_matrix(y_fam, predicted_rf_cv_fam)\n",
    "statistical_measures(cm_fam)"
   ]
  },
  {
   "cell_type": "code",
   "execution_count": 72,
   "metadata": {
    "collapsed": false
   },
   "outputs": [
    {
     "data": {
      "text/plain": [
       "{'ACC': array([ 0.8550652,  0.8550652]),\n",
       " 'FDR': array([ 0.1276891 ,  0.18987342]),\n",
       " 'FNR': array([ 0.07709251,  0.29113924]),\n",
       " 'FPR': array([ 0.29113924,  0.07709251]),\n",
       " 'NPV': array([ 0.81012658,  0.8723109 ]),\n",
       " 'PPV': array([ 0.8723109 ,  0.81012658]),\n",
       " 'TNR': array([ 0.70886076,  0.92290749]),\n",
       " 'TPR': array([ 0.92290749,  0.70886076])}"
      ]
     },
     "execution_count": 72,
     "metadata": {},
     "output_type": "execute_result"
    }
   ],
   "source": [
    "predicted_fam = cross_validation.cross_val_predict(linear_model.LogisticRegression(penalty='l2'), X_fam, y_fam, cv=10)\n",
    "cm_fam2 = confusion_matrix(y_fam, predicted_fam)\n",
    "statistical_measures(cm_fam2)"
   ]
  },
  {
   "cell_type": "markdown",
   "metadata": {},
   "source": [
    "Using attributes related to family, we get better predictions than when using education variables. But we still see lower accuracies compared to when we used more attributes. Again, using logistic regression and random forests give similar results. Here, we get an error rate of around 0.145, much better than in section 4.1. Furthmore, an error rate around 0.145 is actually quite close to when we used a random forest on all the attributes (except the ones with mostly NAs) back in section 3.3. This may mean that family information can give indications of whether there will be more crime or not in a city."
   ]
  },
  {
   "cell_type": "markdown",
   "metadata": {},
   "source": [
    "### 4.3 Household\n",
    "Next, we will look at variables related to households. For example, we will use percentage of the population with large households (more than 9 people living in the same house), how many vacant houses there, etc. "
   ]
  },
  {
   "cell_type": "code",
   "execution_count": 73,
   "metadata": {
    "collapsed": false
   },
   "outputs": [
    {
     "data": {
      "text/html": [
       "<div>\n",
       "<table border=\"1\" class=\"dataframe\">\n",
       "  <thead>\n",
       "    <tr style=\"text-align: right;\">\n",
       "      <th></th>\n",
       "      <th>PctLargHouseFam</th>\n",
       "      <th>PctLargHouseOccup</th>\n",
       "      <th>PersPerOccupHous</th>\n",
       "      <th>PersPerOwnOccHous</th>\n",
       "      <th>PersPerRentOccHous</th>\n",
       "      <th>PctPersOwnOccup</th>\n",
       "      <th>PctPersDenseHous</th>\n",
       "      <th>PctHousLess3BR</th>\n",
       "      <th>MedNumBR</th>\n",
       "      <th>HousVacant</th>\n",
       "      <th>...</th>\n",
       "      <th>RentLowQ</th>\n",
       "      <th>RentMedian</th>\n",
       "      <th>RentHighQ</th>\n",
       "      <th>RentQrange</th>\n",
       "      <th>MedRent</th>\n",
       "      <th>MedRentPctHousInc</th>\n",
       "      <th>MedOwnCostPctInc</th>\n",
       "      <th>MedOwnCostPctIncNoMtg</th>\n",
       "      <th>NumInShelters</th>\n",
       "      <th>NumStreet</th>\n",
       "    </tr>\n",
       "  </thead>\n",
       "  <tbody>\n",
       "    <tr>\n",
       "      <th>0</th>\n",
       "      <td>4.81</td>\n",
       "      <td>4.17</td>\n",
       "      <td>2.99</td>\n",
       "      <td>3.00</td>\n",
       "      <td>2.84</td>\n",
       "      <td>91.46</td>\n",
       "      <td>0.39</td>\n",
       "      <td>11.06</td>\n",
       "      <td>3</td>\n",
       "      <td>64</td>\n",
       "      <td>...</td>\n",
       "      <td>685</td>\n",
       "      <td>1001</td>\n",
       "      <td>1001</td>\n",
       "      <td>316</td>\n",
       "      <td>1001</td>\n",
       "      <td>23.8</td>\n",
       "      <td>21.1</td>\n",
       "      <td>14.0</td>\n",
       "      <td>11</td>\n",
       "      <td>0</td>\n",
       "    </tr>\n",
       "    <tr>\n",
       "      <th>1</th>\n",
       "      <td>4.25</td>\n",
       "      <td>3.34</td>\n",
       "      <td>2.70</td>\n",
       "      <td>2.83</td>\n",
       "      <td>1.96</td>\n",
       "      <td>89.03</td>\n",
       "      <td>1.01</td>\n",
       "      <td>23.60</td>\n",
       "      <td>3</td>\n",
       "      <td>240</td>\n",
       "      <td>...</td>\n",
       "      <td>467</td>\n",
       "      <td>560</td>\n",
       "      <td>672</td>\n",
       "      <td>205</td>\n",
       "      <td>627</td>\n",
       "      <td>27.6</td>\n",
       "      <td>20.7</td>\n",
       "      <td>12.5</td>\n",
       "      <td>0</td>\n",
       "      <td>0</td>\n",
       "    </tr>\n",
       "  </tbody>\n",
       "</table>\n",
       "<p>2 rows × 31 columns</p>\n",
       "</div>"
      ],
      "text/plain": [
       "   PctLargHouseFam  PctLargHouseOccup  PersPerOccupHous  PersPerOwnOccHous  \\\n",
       "0             4.81               4.17              2.99               3.00   \n",
       "1             4.25               3.34              2.70               2.83   \n",
       "\n",
       "   PersPerRentOccHous  PctPersOwnOccup  PctPersDenseHous  PctHousLess3BR  \\\n",
       "0                2.84            91.46              0.39           11.06   \n",
       "1                1.96            89.03              1.01           23.60   \n",
       "\n",
       "   MedNumBR  HousVacant    ...      RentLowQ  RentMedian  RentHighQ  \\\n",
       "0         3          64    ...           685        1001       1001   \n",
       "1         3         240    ...           467         560        672   \n",
       "\n",
       "   RentQrange  MedRent  MedRentPctHousInc  MedOwnCostPctInc  \\\n",
       "0         316     1001               23.8              21.1   \n",
       "1         205      627               27.6              20.7   \n",
       "\n",
       "   MedOwnCostPctIncNoMtg  NumInShelters  NumStreet  \n",
       "0                   14.0             11          0  \n",
       "1                   12.5              0          0  \n",
       "\n",
       "[2 rows x 31 columns]"
      ]
     },
     "execution_count": 73,
     "metadata": {},
     "output_type": "execute_result"
    }
   ],
   "source": [
    "df_h = df2.ix[:,61:92]\n",
    "df_h.head(2)"
   ]
  },
  {
   "cell_type": "code",
   "execution_count": 74,
   "metadata": {
    "collapsed": false
   },
   "outputs": [
    {
     "data": {
      "text/plain": [
       "{'ACC': array([ 0.83500502,  0.83500502]),\n",
       " 'FDR': array([ 0.14354727,  0.22201835]),\n",
       " 'FNR': array([ 0.08883994,  0.32911392]),\n",
       " 'FPR': array([ 0.32911392,  0.08883994]),\n",
       " 'NPV': array([ 0.77798165,  0.85645273]),\n",
       " 'PPV': array([ 0.85645273,  0.77798165]),\n",
       " 'TNR': array([ 0.67088608,  0.91116006]),\n",
       " 'TPR': array([ 0.91116006,  0.67088608])}"
      ]
     },
     "execution_count": 74,
     "metadata": {},
     "output_type": "execute_result"
    }
   ],
   "source": [
    "X_h = df_h[df.ViolentCrimesPerPop != '?'] # didn't get rid of '?' in the y (ViolentCrimesPerPop) yet\n",
    "y_h = df.ViolentCrimesPerPop[df.ViolentCrimesPerPop != '?']\n",
    "y_h = y\n",
    "\n",
    "predicted_rf_cv_h = cross_validation.cross_val_predict(RandomForestClassifier(n_estimators=20), X_h, y_h, cv=10)\n",
    "cm_h = confusion_matrix(y_h, predicted_rf_cv_h)\n",
    "statistical_measures(cm_h)"
   ]
  },
  {
   "cell_type": "code",
   "execution_count": 75,
   "metadata": {
    "collapsed": false
   },
   "outputs": [
    {
     "data": {
      "text/plain": [
       "{'ACC': array([ 0.81895687,  0.81895687]),\n",
       " 'FDR': array([ 0.16476892,  0.22954092]),\n",
       " 'FNR': array([ 0.08443465,  0.38924051]),\n",
       " 'FPR': array([ 0.38924051,  0.08443465]),\n",
       " 'NPV': array([ 0.77045908,  0.83523108]),\n",
       " 'PPV': array([ 0.83523108,  0.77045908]),\n",
       " 'TNR': array([ 0.61075949,  0.91556535]),\n",
       " 'TPR': array([ 0.91556535,  0.61075949])}"
      ]
     },
     "execution_count": 75,
     "metadata": {},
     "output_type": "execute_result"
    }
   ],
   "source": [
    "predicted_h = cross_validation.cross_val_predict(linear_model.LogisticRegression(penalty='l2'), X_h, y_h, cv=10)\n",
    "cm_h2 = confusion_matrix(y_h, predicted_h)\n",
    "statistical_measures(cm_h2)"
   ]
  },
  {
   "cell_type": "markdown",
   "metadata": {},
   "source": [
    "### 4.4 Income\n",
    "Next we look at income information like the median income in the city, percent of the population with a wage, percent of households that are self employed, percent of people who are unemployed, etc."
   ]
  },
  {
   "cell_type": "code",
   "execution_count": 76,
   "metadata": {
    "collapsed": false
   },
   "outputs": [
    {
     "data": {
      "text/html": [
       "<div>\n",
       "<table border=\"1\" class=\"dataframe\">\n",
       "  <thead>\n",
       "    <tr style=\"text-align: right;\">\n",
       "      <th></th>\n",
       "      <th>medIncome</th>\n",
       "      <th>pctWWage</th>\n",
       "      <th>pctWFarmSelf</th>\n",
       "      <th>pctWInvInc</th>\n",
       "      <th>pctWSocSec</th>\n",
       "      <th>pctWPubAsst</th>\n",
       "      <th>pctWRetire</th>\n",
       "      <th>medFamInc</th>\n",
       "      <th>perCapInc</th>\n",
       "      <th>NumUnderPov</th>\n",
       "      <th>PctPopUnderPov</th>\n",
       "      <th>PctUnemployed</th>\n",
       "      <th>PctEmploy</th>\n",
       "    </tr>\n",
       "  </thead>\n",
       "  <tbody>\n",
       "    <tr>\n",
       "      <th>0</th>\n",
       "      <td>75122</td>\n",
       "      <td>89.24</td>\n",
       "      <td>1.55</td>\n",
       "      <td>70.20</td>\n",
       "      <td>23.62</td>\n",
       "      <td>1.03</td>\n",
       "      <td>18.39</td>\n",
       "      <td>79584</td>\n",
       "      <td>29711</td>\n",
       "      <td>227</td>\n",
       "      <td>1.96</td>\n",
       "      <td>2.70</td>\n",
       "      <td>64.55</td>\n",
       "    </tr>\n",
       "    <tr>\n",
       "      <th>1</th>\n",
       "      <td>47917</td>\n",
       "      <td>78.99</td>\n",
       "      <td>1.11</td>\n",
       "      <td>64.11</td>\n",
       "      <td>35.50</td>\n",
       "      <td>2.75</td>\n",
       "      <td>22.85</td>\n",
       "      <td>55323</td>\n",
       "      <td>20148</td>\n",
       "      <td>885</td>\n",
       "      <td>3.98</td>\n",
       "      <td>2.43</td>\n",
       "      <td>61.96</td>\n",
       "    </tr>\n",
       "  </tbody>\n",
       "</table>\n",
       "</div>"
      ],
      "text/plain": [
       "   medIncome  pctWWage  pctWFarmSelf  pctWInvInc  pctWSocSec  pctWPubAsst  \\\n",
       "0      75122     89.24          1.55       70.20       23.62         1.03   \n",
       "1      47917     78.99          1.11       64.11       35.50         2.75   \n",
       "\n",
       "   pctWRetire  medFamInc  perCapInc  NumUnderPov  PctPopUnderPov  \\\n",
       "0       18.39      79584      29711          227            1.96   \n",
       "1       22.85      55323      20148          885            3.98   \n",
       "\n",
       "   PctUnemployed  PctEmploy  \n",
       "0           2.70      64.55  \n",
       "1           2.43      61.96  "
      ]
     },
     "execution_count": 76,
     "metadata": {},
     "output_type": "execute_result"
    }
   ],
   "source": [
    "df_in = df2[[ 'medIncome', 'pctWWage','pctWFarmSelf','pctWInvInc','pctWSocSec','pctWPubAsst','pctWRetire',\n",
    "           'medFamInc','perCapInc','NumUnderPov','PctPopUnderPov','PctUnemployed','PctEmploy']]\n",
    "df_in.head(2)"
   ]
  },
  {
   "cell_type": "code",
   "execution_count": 77,
   "metadata": {
    "collapsed": false
   },
   "outputs": [
    {
     "data": {
      "text/plain": [
       "{'ACC': array([ 0.83049147,  0.83049147]),\n",
       " 'FDR': array([ 0.14786795,  0.22777778]),\n",
       " 'FNR': array([ 0.09030837,  0.34018987]),\n",
       " 'FPR': array([ 0.34018987,  0.09030837]),\n",
       " 'NPV': array([ 0.77222222,  0.85213205]),\n",
       " 'PPV': array([ 0.85213205,  0.77222222]),\n",
       " 'TNR': array([ 0.65981013,  0.90969163]),\n",
       " 'TPR': array([ 0.90969163,  0.65981013])}"
      ]
     },
     "execution_count": 77,
     "metadata": {},
     "output_type": "execute_result"
    }
   ],
   "source": [
    "X_in = df_in[df.ViolentCrimesPerPop != '?'] # didn't get rid of '?' in the y (ViolentCrimesPerPop) yet\n",
    "y_in = df.ViolentCrimesPerPop[df.ViolentCrimesPerPop != '?']\n",
    "y_in = y\n",
    "\n",
    "predicted_rf_cv_in = cross_validation.cross_val_predict(RandomForestClassifier(n_estimators=20), X_in, y_in, cv=10)\n",
    "cm_in = confusion_matrix(y_in, predicted_rf_cv_in)\n",
    "statistical_measures(cm_in)"
   ]
  },
  {
   "cell_type": "code",
   "execution_count": 78,
   "metadata": {
    "collapsed": false
   },
   "outputs": [
    {
     "data": {
      "text/plain": [
       "{'ACC': array([ 0.82998997,  0.82998997]),\n",
       " 'FDR': array([ 0.14893617,  0.22718808]),\n",
       " 'FNR': array([ 0.08957416,  0.34335443]),\n",
       " 'FPR': array([ 0.34335443,  0.08957416]),\n",
       " 'NPV': array([ 0.77281192,  0.85106383]),\n",
       " 'PPV': array([ 0.85106383,  0.77281192]),\n",
       " 'TNR': array([ 0.65664557,  0.91042584]),\n",
       " 'TPR': array([ 0.91042584,  0.65664557])}"
      ]
     },
     "execution_count": 78,
     "metadata": {},
     "output_type": "execute_result"
    }
   ],
   "source": [
    "predicted_in = cross_validation.cross_val_predict(linear_model.LogisticRegression(penalty='l2'), X_in, y_in, cv=10)\n",
    "cm_in2 = confusion_matrix(y_in, predicted_in)\n",
    "statistical_measures(cm_in2)"
   ]
  },
  {
   "cell_type": "markdown",
   "metadata": {},
   "source": [
    "### 4.5 Race/Ethnicity\n",
    "From the random forest in section 3.3, we saw that race seemed to contribute the most. Now we will look at the variables related to race and see if we can make accurate predictions from them."
   ]
  },
  {
   "cell_type": "code",
   "execution_count": 80,
   "metadata": {
    "collapsed": false
   },
   "outputs": [
    {
     "data": {
      "text/html": [
       "<div>\n",
       "<table border=\"1\" class=\"dataframe\">\n",
       "  <thead>\n",
       "    <tr style=\"text-align: right;\">\n",
       "      <th></th>\n",
       "      <th>racePctWhite</th>\n",
       "      <th>racePctAsian</th>\n",
       "      <th>racepctblack</th>\n",
       "      <th>racePctHisp</th>\n",
       "    </tr>\n",
       "  </thead>\n",
       "  <tbody>\n",
       "    <tr>\n",
       "      <th>0</th>\n",
       "      <td>91.78</td>\n",
       "      <td>6.50</td>\n",
       "      <td>1.37</td>\n",
       "      <td>1.88</td>\n",
       "    </tr>\n",
       "    <tr>\n",
       "      <th>1</th>\n",
       "      <td>95.57</td>\n",
       "      <td>3.44</td>\n",
       "      <td>0.80</td>\n",
       "      <td>0.85</td>\n",
       "    </tr>\n",
       "  </tbody>\n",
       "</table>\n",
       "</div>"
      ],
      "text/plain": [
       "   racePctWhite  racePctAsian  racepctblack  racePctHisp\n",
       "0         91.78          6.50          1.37         1.88\n",
       "1         95.57          3.44          0.80         0.85"
      ]
     },
     "execution_count": 80,
     "metadata": {},
     "output_type": "execute_result"
    }
   ],
   "source": [
    "df_ra = df2[['racePctWhite','racePctAsian','racepctblack','racePctHisp']]\n",
    "df_ra.head(2)"
   ]
  },
  {
   "cell_type": "code",
   "execution_count": 81,
   "metadata": {
    "collapsed": false
   },
   "outputs": [
    {
     "data": {
      "text/plain": [
       "{'ACC': array([ 0.8109328,  0.8109328]),\n",
       " 'FDR': array([ 0.15679443,  0.27191413]),\n",
       " 'FNR': array([ 0.11160059,  0.35601266]),\n",
       " 'FPR': array([ 0.35601266,  0.11160059]),\n",
       " 'NPV': array([ 0.72808587,  0.84320557]),\n",
       " 'PPV': array([ 0.84320557,  0.72808587]),\n",
       " 'TNR': array([ 0.64398734,  0.88839941]),\n",
       " 'TPR': array([ 0.88839941,  0.64398734])}"
      ]
     },
     "execution_count": 81,
     "metadata": {},
     "output_type": "execute_result"
    }
   ],
   "source": [
    "X_ra = df_ra[df.ViolentCrimesPerPop != '?'] # didn't get rid of '?' in the y (ViolentCrimesPerPop) yet\n",
    "y_ra = df.ViolentCrimesPerPop[df.ViolentCrimesPerPop != '?']\n",
    "y_ra = y\n",
    "\n",
    "predicted_rf_cv_ra = cross_validation.cross_val_predict(RandomForestClassifier(n_estimators=20), X_ra, y_ra, cv=10)\n",
    "cm_ra = confusion_matrix(y_ra, predicted_rf_cv_ra)\n",
    "statistical_measures(cm_ra)"
   ]
  },
  {
   "cell_type": "code",
   "execution_count": 82,
   "metadata": {
    "collapsed": false
   },
   "outputs": [
    {
     "data": {
      "text/plain": [
       "{'ACC': array([ 0.82347041,  0.82347041]),\n",
       " 'FDR': array([ 0.16467463,  0.21311475]),\n",
       " 'FNR': array([ 0.0763583 ,  0.39240506]),\n",
       " 'FPR': array([ 0.39240506,  0.0763583 ]),\n",
       " 'NPV': array([ 0.78688525,  0.83532537]),\n",
       " 'PPV': array([ 0.83532537,  0.78688525]),\n",
       " 'TNR': array([ 0.60759494,  0.9236417 ]),\n",
       " 'TPR': array([ 0.9236417 ,  0.60759494])}"
      ]
     },
     "execution_count": 82,
     "metadata": {},
     "output_type": "execute_result"
    }
   ],
   "source": [
    "predicted_ra = cross_validation.cross_val_predict(linear_model.LogisticRegression(penalty='l2'), X_ra, y_ra, cv=10)\n",
    "cm_ra2 = confusion_matrix(y_ra, predicted_ra)\n",
    "statistical_measures(cm_ra2)"
   ]
  },
  {
   "cell_type": "markdown",
   "metadata": {},
   "source": [
    "Looking at all of the subsets, family information, household information, income, and race information all perform about the same. However, just using education gives the worst and just family information does the best (for the subsets we tested). Looking at these subsets gives us good insight and tells us that we could make decent predictions with just these subsets. "
   ]
  },
  {
   "cell_type": "markdown",
   "metadata": {},
   "source": [
    "## 5 Conclusions\n",
    "It was interesting to find that if we used all of the attributes (except for the ones with mostly NAs), most of the important variables were related to race. Several of the important variables were also relevant to family life but it is unsurprising that important variables are mostly related as they influence each other. However, it was surprising that none of the influential variables were related to income, for example there did not seem to variables about housing, employment or police that was \"important.\" However, we note that our model used many attributes and this in practice is not very practical because a city would need to survey a lot of information in order for our model to be useful. In the case of using all of the attributes, logistic regression seemed to be the best because it had a very low error rate and very low false negative rates. \n",
    "\n",
    "Then when we looked at just using specific varibles like just race or household, we got worse results but still OK. In the real world, perhaps we would not have all of the information we had in this data and instead only had information about the familes. From section 4.2, we saw that we could still get an accuracy of around 0.85. However, just using education information did not seem to give that great of predictions, accuracy of around 0.72. Nevertheless, our analysis from section 4 tells us that we could use subsets and get OK results because over 100 attributes is a lot, so using just 5 to 10 would probably be more feasible. \n",
    "\n",
    "Our models could be used by mayors if they want to see what factors in their city is contributing most to crime rates. For example, if it appeared that families with mostly unemployed members was an important variable in determining crime rates, the mayor could initialize more plans to create jobs. However, variables like the one we found to be the most important, percentage of Caucasians in the populaton, would not be very helpful to a mayor as one cannot control such things. Additionally it's important to realize that factors like percentage of a certain type of race that appeared to be one of the important factors may not actually be the cause of the crime rates. Also families may be interested in this model because if they want to move to another city, it may be important to them to see if a city has higher than average crime rates.\n",
    "\n",
    "\n",
    "## 6 Next Steps\n",
    "We could find a more recent dataset because the one we are using is from 1995 and may not be as relevant. However, perhaps the data is still OK since crime is not extremely volatile, it does not change much throughout, as opposed to something relating to technology. Our data set also was not very complete because it was missing a lot of the police information and perhaps that information could have been useful. We also could look for connections and similarities within subsets of the data.\n",
    "\n"
   ]
  },
  {
   "cell_type": "code",
   "execution_count": null,
   "metadata": {
    "collapsed": true
   },
   "outputs": [],
   "source": []
  }
 ],
 "metadata": {
  "kernelspec": {
   "display_name": "Python 3",
   "language": "python",
   "name": "python3"
  },
  "language_info": {
   "codemirror_mode": {
    "name": "ipython",
    "version": 3
   },
   "file_extension": ".py",
   "mimetype": "text/x-python",
   "name": "python",
   "nbconvert_exporter": "python",
   "pygments_lexer": "ipython3",
   "version": "3.5.2"
  }
 },
 "nbformat": 4,
 "nbformat_minor": 2
}
